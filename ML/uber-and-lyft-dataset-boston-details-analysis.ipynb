{
 "cells": [
  {
   "cell_type": "code",
   "execution_count": 1,
   "id": "08bafc39",
   "metadata": {
    "execution": {
     "iopub.execute_input": "2023-06-03T05:22:08.556087Z",
     "iopub.status.busy": "2023-06-03T05:22:08.555688Z",
     "iopub.status.idle": "2023-06-03T05:22:08.560632Z",
     "shell.execute_reply": "2023-06-03T05:22:08.559676Z"
    },
    "papermill": {
     "duration": 0.028989,
     "end_time": "2023-06-03T05:22:08.564097",
     "exception": false,
     "start_time": "2023-06-03T05:22:08.535108",
     "status": "completed"
    },
    "tags": []
   },
   "outputs": [],
   "source": [
    "## Comment\n",
    "## Observation"
   ]
  },
  {
   "cell_type": "markdown",
   "id": "4b2786d7",
   "metadata": {
    "papermill": {
     "duration": 0.018674,
     "end_time": "2023-06-03T05:22:08.601909",
     "exception": false,
     "start_time": "2023-06-03T05:22:08.583235",
     "status": "completed"
    },
    "tags": []
   },
   "source": [
    "# 1. Importing Library and Dataset"
   ]
  },
  {
   "cell_type": "code",
   "execution_count": 2,
   "id": "0bdf46bf",
   "metadata": {
    "execution": {
     "iopub.execute_input": "2023-06-03T05:22:08.640970Z",
     "iopub.status.busy": "2023-06-03T05:22:08.640008Z",
     "iopub.status.idle": "2023-06-03T05:22:10.763888Z",
     "shell.execute_reply": "2023-06-03T05:22:10.762821Z"
    },
    "papermill": {
     "duration": 2.146522,
     "end_time": "2023-06-03T05:22:10.766942",
     "exception": false,
     "start_time": "2023-06-03T05:22:08.620420",
     "status": "completed"
    },
    "tags": []
   },
   "outputs": [],
   "source": [
    "# Required Libraries\n",
    "import pandas as pd\n",
    "import numpy as np\n",
    "import matplotlib.pyplot as plt\n",
    "import seaborn as sns\n",
    "import plotly.express as px\n",
    "\n",
    "pd.options.display.max_rows = None\n",
    "pd.options.display.max_columns = None"
   ]
  },
  {
   "cell_type": "code",
   "execution_count": 3,
   "id": "c365d1ba",
   "metadata": {
    "execution": {
     "iopub.execute_input": "2023-06-03T05:22:10.806774Z",
     "iopub.status.busy": "2023-06-03T05:22:10.806141Z",
     "iopub.status.idle": "2023-06-03T05:22:22.352283Z",
     "shell.execute_reply": "2023-06-03T05:22:22.351234Z"
    },
    "papermill": {
     "duration": 11.568767,
     "end_time": "2023-06-03T05:22:22.354734",
     "exception": false,
     "start_time": "2023-06-03T05:22:10.785967",
     "status": "completed"
    },
    "tags": []
   },
   "outputs": [
    {
     "data": {
      "text/html": [
       "<div>\n",
       "<style scoped>\n",
       "    .dataframe tbody tr th:only-of-type {\n",
       "        vertical-align: middle;\n",
       "    }\n",
       "\n",
       "    .dataframe tbody tr th {\n",
       "        vertical-align: top;\n",
       "    }\n",
       "\n",
       "    .dataframe thead th {\n",
       "        text-align: right;\n",
       "    }\n",
       "</style>\n",
       "<table border=\"1\" class=\"dataframe\">\n",
       "  <thead>\n",
       "    <tr style=\"text-align: right;\">\n",
       "      <th></th>\n",
       "      <th>id</th>\n",
       "      <th>timestamp</th>\n",
       "      <th>hour</th>\n",
       "      <th>day</th>\n",
       "      <th>month</th>\n",
       "      <th>datetime</th>\n",
       "      <th>timezone</th>\n",
       "      <th>source</th>\n",
       "      <th>destination</th>\n",
       "      <th>cab_type</th>\n",
       "      <th>product_id</th>\n",
       "      <th>name</th>\n",
       "      <th>price</th>\n",
       "      <th>distance</th>\n",
       "      <th>surge_multiplier</th>\n",
       "      <th>latitude</th>\n",
       "      <th>longitude</th>\n",
       "      <th>temperature</th>\n",
       "      <th>apparentTemperature</th>\n",
       "      <th>short_summary</th>\n",
       "      <th>long_summary</th>\n",
       "      <th>precipIntensity</th>\n",
       "      <th>precipProbability</th>\n",
       "      <th>humidity</th>\n",
       "      <th>windSpeed</th>\n",
       "      <th>windGust</th>\n",
       "      <th>windGustTime</th>\n",
       "      <th>visibility</th>\n",
       "      <th>temperatureHigh</th>\n",
       "      <th>temperatureHighTime</th>\n",
       "      <th>temperatureLow</th>\n",
       "      <th>temperatureLowTime</th>\n",
       "      <th>apparentTemperatureHigh</th>\n",
       "      <th>apparentTemperatureHighTime</th>\n",
       "      <th>apparentTemperatureLow</th>\n",
       "      <th>apparentTemperatureLowTime</th>\n",
       "      <th>icon</th>\n",
       "      <th>dewPoint</th>\n",
       "      <th>pressure</th>\n",
       "      <th>windBearing</th>\n",
       "      <th>cloudCover</th>\n",
       "      <th>uvIndex</th>\n",
       "      <th>visibility.1</th>\n",
       "      <th>ozone</th>\n",
       "      <th>sunriseTime</th>\n",
       "      <th>sunsetTime</th>\n",
       "      <th>moonPhase</th>\n",
       "      <th>precipIntensityMax</th>\n",
       "      <th>uvIndexTime</th>\n",
       "      <th>temperatureMin</th>\n",
       "      <th>temperatureMinTime</th>\n",
       "      <th>temperatureMax</th>\n",
       "      <th>temperatureMaxTime</th>\n",
       "      <th>apparentTemperatureMin</th>\n",
       "      <th>apparentTemperatureMinTime</th>\n",
       "      <th>apparentTemperatureMax</th>\n",
       "      <th>apparentTemperatureMaxTime</th>\n",
       "    </tr>\n",
       "  </thead>\n",
       "  <tbody>\n",
       "    <tr>\n",
       "      <th>0</th>\n",
       "      <td>424553bb-7174-41ea-aeb4-fe06d4f4b9d7</td>\n",
       "      <td>1.544953e+09</td>\n",
       "      <td>9</td>\n",
       "      <td>16</td>\n",
       "      <td>12</td>\n",
       "      <td>2018-12-16 09:30:07</td>\n",
       "      <td>America/New_York</td>\n",
       "      <td>Haymarket Square</td>\n",
       "      <td>North Station</td>\n",
       "      <td>Lyft</td>\n",
       "      <td>lyft_line</td>\n",
       "      <td>Shared</td>\n",
       "      <td>5.0</td>\n",
       "      <td>0.44</td>\n",
       "      <td>1.0</td>\n",
       "      <td>42.2148</td>\n",
       "      <td>-71.033</td>\n",
       "      <td>42.34</td>\n",
       "      <td>37.12</td>\n",
       "      <td>Mostly Cloudy</td>\n",
       "      <td>Rain throughout the day.</td>\n",
       "      <td>0.0000</td>\n",
       "      <td>0.0</td>\n",
       "      <td>0.68</td>\n",
       "      <td>8.66</td>\n",
       "      <td>9.17</td>\n",
       "      <td>1545015600</td>\n",
       "      <td>10.000</td>\n",
       "      <td>43.68</td>\n",
       "      <td>1544968800</td>\n",
       "      <td>34.19</td>\n",
       "      <td>1545048000</td>\n",
       "      <td>37.95</td>\n",
       "      <td>1544968800</td>\n",
       "      <td>27.39</td>\n",
       "      <td>1545044400</td>\n",
       "      <td>partly-cloudy-night</td>\n",
       "      <td>32.70</td>\n",
       "      <td>1021.98</td>\n",
       "      <td>57</td>\n",
       "      <td>0.72</td>\n",
       "      <td>0</td>\n",
       "      <td>10.000</td>\n",
       "      <td>303.8</td>\n",
       "      <td>1544962084</td>\n",
       "      <td>1544994864</td>\n",
       "      <td>0.30</td>\n",
       "      <td>0.1276</td>\n",
       "      <td>1544979600</td>\n",
       "      <td>39.89</td>\n",
       "      <td>1545012000</td>\n",
       "      <td>43.68</td>\n",
       "      <td>1544968800</td>\n",
       "      <td>33.73</td>\n",
       "      <td>1545012000</td>\n",
       "      <td>38.07</td>\n",
       "      <td>1544958000</td>\n",
       "    </tr>\n",
       "    <tr>\n",
       "      <th>1</th>\n",
       "      <td>4bd23055-6827-41c6-b23b-3c491f24e74d</td>\n",
       "      <td>1.543284e+09</td>\n",
       "      <td>2</td>\n",
       "      <td>27</td>\n",
       "      <td>11</td>\n",
       "      <td>2018-11-27 02:00:23</td>\n",
       "      <td>America/New_York</td>\n",
       "      <td>Haymarket Square</td>\n",
       "      <td>North Station</td>\n",
       "      <td>Lyft</td>\n",
       "      <td>lyft_premier</td>\n",
       "      <td>Lux</td>\n",
       "      <td>11.0</td>\n",
       "      <td>0.44</td>\n",
       "      <td>1.0</td>\n",
       "      <td>42.2148</td>\n",
       "      <td>-71.033</td>\n",
       "      <td>43.58</td>\n",
       "      <td>37.35</td>\n",
       "      <td>Rain</td>\n",
       "      <td>Rain until morning, starting again in the eve...</td>\n",
       "      <td>0.1299</td>\n",
       "      <td>1.0</td>\n",
       "      <td>0.94</td>\n",
       "      <td>11.98</td>\n",
       "      <td>11.98</td>\n",
       "      <td>1543291200</td>\n",
       "      <td>4.786</td>\n",
       "      <td>47.30</td>\n",
       "      <td>1543251600</td>\n",
       "      <td>42.10</td>\n",
       "      <td>1543298400</td>\n",
       "      <td>43.92</td>\n",
       "      <td>1543251600</td>\n",
       "      <td>36.20</td>\n",
       "      <td>1543291200</td>\n",
       "      <td>rain</td>\n",
       "      <td>41.83</td>\n",
       "      <td>1003.97</td>\n",
       "      <td>90</td>\n",
       "      <td>1.00</td>\n",
       "      <td>0</td>\n",
       "      <td>4.786</td>\n",
       "      <td>291.1</td>\n",
       "      <td>1543232969</td>\n",
       "      <td>1543266992</td>\n",
       "      <td>0.64</td>\n",
       "      <td>0.1300</td>\n",
       "      <td>1543251600</td>\n",
       "      <td>40.49</td>\n",
       "      <td>1543233600</td>\n",
       "      <td>47.30</td>\n",
       "      <td>1543251600</td>\n",
       "      <td>36.20</td>\n",
       "      <td>1543291200</td>\n",
       "      <td>43.92</td>\n",
       "      <td>1543251600</td>\n",
       "    </tr>\n",
       "    <tr>\n",
       "      <th>2</th>\n",
       "      <td>981a3613-77af-4620-a42a-0c0866077d1e</td>\n",
       "      <td>1.543367e+09</td>\n",
       "      <td>1</td>\n",
       "      <td>28</td>\n",
       "      <td>11</td>\n",
       "      <td>2018-11-28 01:00:22</td>\n",
       "      <td>America/New_York</td>\n",
       "      <td>Haymarket Square</td>\n",
       "      <td>North Station</td>\n",
       "      <td>Lyft</td>\n",
       "      <td>lyft</td>\n",
       "      <td>Lyft</td>\n",
       "      <td>7.0</td>\n",
       "      <td>0.44</td>\n",
       "      <td>1.0</td>\n",
       "      <td>42.2148</td>\n",
       "      <td>-71.033</td>\n",
       "      <td>38.33</td>\n",
       "      <td>32.93</td>\n",
       "      <td>Clear</td>\n",
       "      <td>Light rain in the morning.</td>\n",
       "      <td>0.0000</td>\n",
       "      <td>0.0</td>\n",
       "      <td>0.75</td>\n",
       "      <td>7.33</td>\n",
       "      <td>7.33</td>\n",
       "      <td>1543334400</td>\n",
       "      <td>10.000</td>\n",
       "      <td>47.55</td>\n",
       "      <td>1543320000</td>\n",
       "      <td>33.10</td>\n",
       "      <td>1543402800</td>\n",
       "      <td>44.12</td>\n",
       "      <td>1543320000</td>\n",
       "      <td>29.11</td>\n",
       "      <td>1543392000</td>\n",
       "      <td>clear-night</td>\n",
       "      <td>31.10</td>\n",
       "      <td>992.28</td>\n",
       "      <td>240</td>\n",
       "      <td>0.03</td>\n",
       "      <td>0</td>\n",
       "      <td>10.000</td>\n",
       "      <td>315.7</td>\n",
       "      <td>1543319437</td>\n",
       "      <td>1543353364</td>\n",
       "      <td>0.68</td>\n",
       "      <td>0.1064</td>\n",
       "      <td>1543338000</td>\n",
       "      <td>35.36</td>\n",
       "      <td>1543377600</td>\n",
       "      <td>47.55</td>\n",
       "      <td>1543320000</td>\n",
       "      <td>31.04</td>\n",
       "      <td>1543377600</td>\n",
       "      <td>44.12</td>\n",
       "      <td>1543320000</td>\n",
       "    </tr>\n",
       "    <tr>\n",
       "      <th>3</th>\n",
       "      <td>c2d88af2-d278-4bfd-a8d0-29ca77cc5512</td>\n",
       "      <td>1.543554e+09</td>\n",
       "      <td>4</td>\n",
       "      <td>30</td>\n",
       "      <td>11</td>\n",
       "      <td>2018-11-30 04:53:02</td>\n",
       "      <td>America/New_York</td>\n",
       "      <td>Haymarket Square</td>\n",
       "      <td>North Station</td>\n",
       "      <td>Lyft</td>\n",
       "      <td>lyft_luxsuv</td>\n",
       "      <td>Lux Black XL</td>\n",
       "      <td>26.0</td>\n",
       "      <td>0.44</td>\n",
       "      <td>1.0</td>\n",
       "      <td>42.2148</td>\n",
       "      <td>-71.033</td>\n",
       "      <td>34.38</td>\n",
       "      <td>29.63</td>\n",
       "      <td>Clear</td>\n",
       "      <td>Partly cloudy throughout the day.</td>\n",
       "      <td>0.0000</td>\n",
       "      <td>0.0</td>\n",
       "      <td>0.73</td>\n",
       "      <td>5.28</td>\n",
       "      <td>5.28</td>\n",
       "      <td>1543514400</td>\n",
       "      <td>10.000</td>\n",
       "      <td>45.03</td>\n",
       "      <td>1543510800</td>\n",
       "      <td>28.90</td>\n",
       "      <td>1543579200</td>\n",
       "      <td>38.53</td>\n",
       "      <td>1543510800</td>\n",
       "      <td>26.20</td>\n",
       "      <td>1543575600</td>\n",
       "      <td>clear-night</td>\n",
       "      <td>26.64</td>\n",
       "      <td>1013.73</td>\n",
       "      <td>310</td>\n",
       "      <td>0.00</td>\n",
       "      <td>0</td>\n",
       "      <td>10.000</td>\n",
       "      <td>291.1</td>\n",
       "      <td>1543492370</td>\n",
       "      <td>1543526114</td>\n",
       "      <td>0.75</td>\n",
       "      <td>0.0000</td>\n",
       "      <td>1543507200</td>\n",
       "      <td>34.67</td>\n",
       "      <td>1543550400</td>\n",
       "      <td>45.03</td>\n",
       "      <td>1543510800</td>\n",
       "      <td>30.30</td>\n",
       "      <td>1543550400</td>\n",
       "      <td>38.53</td>\n",
       "      <td>1543510800</td>\n",
       "    </tr>\n",
       "    <tr>\n",
       "      <th>4</th>\n",
       "      <td>e0126e1f-8ca9-4f2e-82b3-50505a09db9a</td>\n",
       "      <td>1.543463e+09</td>\n",
       "      <td>3</td>\n",
       "      <td>29</td>\n",
       "      <td>11</td>\n",
       "      <td>2018-11-29 03:49:20</td>\n",
       "      <td>America/New_York</td>\n",
       "      <td>Haymarket Square</td>\n",
       "      <td>North Station</td>\n",
       "      <td>Lyft</td>\n",
       "      <td>lyft_plus</td>\n",
       "      <td>Lyft XL</td>\n",
       "      <td>9.0</td>\n",
       "      <td>0.44</td>\n",
       "      <td>1.0</td>\n",
       "      <td>42.2148</td>\n",
       "      <td>-71.033</td>\n",
       "      <td>37.44</td>\n",
       "      <td>30.88</td>\n",
       "      <td>Partly Cloudy</td>\n",
       "      <td>Mostly cloudy throughout the day.</td>\n",
       "      <td>0.0000</td>\n",
       "      <td>0.0</td>\n",
       "      <td>0.70</td>\n",
       "      <td>9.14</td>\n",
       "      <td>9.14</td>\n",
       "      <td>1543446000</td>\n",
       "      <td>10.000</td>\n",
       "      <td>42.18</td>\n",
       "      <td>1543420800</td>\n",
       "      <td>36.71</td>\n",
       "      <td>1543478400</td>\n",
       "      <td>35.75</td>\n",
       "      <td>1543420800</td>\n",
       "      <td>30.29</td>\n",
       "      <td>1543460400</td>\n",
       "      <td>partly-cloudy-night</td>\n",
       "      <td>28.61</td>\n",
       "      <td>998.36</td>\n",
       "      <td>303</td>\n",
       "      <td>0.44</td>\n",
       "      <td>0</td>\n",
       "      <td>10.000</td>\n",
       "      <td>347.7</td>\n",
       "      <td>1543405904</td>\n",
       "      <td>1543439738</td>\n",
       "      <td>0.72</td>\n",
       "      <td>0.0001</td>\n",
       "      <td>1543420800</td>\n",
       "      <td>33.10</td>\n",
       "      <td>1543402800</td>\n",
       "      <td>42.18</td>\n",
       "      <td>1543420800</td>\n",
       "      <td>29.11</td>\n",
       "      <td>1543392000</td>\n",
       "      <td>35.75</td>\n",
       "      <td>1543420800</td>\n",
       "    </tr>\n",
       "  </tbody>\n",
       "</table>\n",
       "</div>"
      ],
      "text/plain": [
       "                                     id     timestamp  hour  day  month  \\\n",
       "0  424553bb-7174-41ea-aeb4-fe06d4f4b9d7  1.544953e+09     9   16     12   \n",
       "1  4bd23055-6827-41c6-b23b-3c491f24e74d  1.543284e+09     2   27     11   \n",
       "2  981a3613-77af-4620-a42a-0c0866077d1e  1.543367e+09     1   28     11   \n",
       "3  c2d88af2-d278-4bfd-a8d0-29ca77cc5512  1.543554e+09     4   30     11   \n",
       "4  e0126e1f-8ca9-4f2e-82b3-50505a09db9a  1.543463e+09     3   29     11   \n",
       "\n",
       "              datetime          timezone            source    destination  \\\n",
       "0  2018-12-16 09:30:07  America/New_York  Haymarket Square  North Station   \n",
       "1  2018-11-27 02:00:23  America/New_York  Haymarket Square  North Station   \n",
       "2  2018-11-28 01:00:22  America/New_York  Haymarket Square  North Station   \n",
       "3  2018-11-30 04:53:02  America/New_York  Haymarket Square  North Station   \n",
       "4  2018-11-29 03:49:20  America/New_York  Haymarket Square  North Station   \n",
       "\n",
       "  cab_type    product_id          name  price  distance  surge_multiplier  \\\n",
       "0     Lyft     lyft_line        Shared    5.0      0.44               1.0   \n",
       "1     Lyft  lyft_premier           Lux   11.0      0.44               1.0   \n",
       "2     Lyft          lyft          Lyft    7.0      0.44               1.0   \n",
       "3     Lyft   lyft_luxsuv  Lux Black XL   26.0      0.44               1.0   \n",
       "4     Lyft     lyft_plus       Lyft XL    9.0      0.44               1.0   \n",
       "\n",
       "   latitude  longitude  temperature  apparentTemperature    short_summary  \\\n",
       "0   42.2148    -71.033        42.34                37.12   Mostly Cloudy    \n",
       "1   42.2148    -71.033        43.58                37.35            Rain    \n",
       "2   42.2148    -71.033        38.33                32.93           Clear    \n",
       "3   42.2148    -71.033        34.38                29.63           Clear    \n",
       "4   42.2148    -71.033        37.44                30.88   Partly Cloudy    \n",
       "\n",
       "                                        long_summary  precipIntensity  \\\n",
       "0                          Rain throughout the day.            0.0000   \n",
       "1   Rain until morning, starting again in the eve...           0.1299   \n",
       "2                        Light rain in the morning.            0.0000   \n",
       "3                 Partly cloudy throughout the day.            0.0000   \n",
       "4                 Mostly cloudy throughout the day.            0.0000   \n",
       "\n",
       "   precipProbability  humidity  windSpeed  windGust  windGustTime  visibility  \\\n",
       "0                0.0      0.68       8.66      9.17    1545015600      10.000   \n",
       "1                1.0      0.94      11.98     11.98    1543291200       4.786   \n",
       "2                0.0      0.75       7.33      7.33    1543334400      10.000   \n",
       "3                0.0      0.73       5.28      5.28    1543514400      10.000   \n",
       "4                0.0      0.70       9.14      9.14    1543446000      10.000   \n",
       "\n",
       "   temperatureHigh  temperatureHighTime  temperatureLow  temperatureLowTime  \\\n",
       "0            43.68           1544968800           34.19          1545048000   \n",
       "1            47.30           1543251600           42.10          1543298400   \n",
       "2            47.55           1543320000           33.10          1543402800   \n",
       "3            45.03           1543510800           28.90          1543579200   \n",
       "4            42.18           1543420800           36.71          1543478400   \n",
       "\n",
       "   apparentTemperatureHigh  apparentTemperatureHighTime  \\\n",
       "0                    37.95                   1544968800   \n",
       "1                    43.92                   1543251600   \n",
       "2                    44.12                   1543320000   \n",
       "3                    38.53                   1543510800   \n",
       "4                    35.75                   1543420800   \n",
       "\n",
       "   apparentTemperatureLow  apparentTemperatureLowTime                   icon  \\\n",
       "0                   27.39                  1545044400   partly-cloudy-night    \n",
       "1                   36.20                  1543291200                  rain    \n",
       "2                   29.11                  1543392000           clear-night    \n",
       "3                   26.20                  1543575600           clear-night    \n",
       "4                   30.29                  1543460400   partly-cloudy-night    \n",
       "\n",
       "   dewPoint  pressure  windBearing  cloudCover  uvIndex  visibility.1  ozone  \\\n",
       "0     32.70   1021.98           57        0.72        0        10.000  303.8   \n",
       "1     41.83   1003.97           90        1.00        0         4.786  291.1   \n",
       "2     31.10    992.28          240        0.03        0        10.000  315.7   \n",
       "3     26.64   1013.73          310        0.00        0        10.000  291.1   \n",
       "4     28.61    998.36          303        0.44        0        10.000  347.7   \n",
       "\n",
       "   sunriseTime  sunsetTime  moonPhase  precipIntensityMax  uvIndexTime  \\\n",
       "0   1544962084  1544994864       0.30              0.1276   1544979600   \n",
       "1   1543232969  1543266992       0.64              0.1300   1543251600   \n",
       "2   1543319437  1543353364       0.68              0.1064   1543338000   \n",
       "3   1543492370  1543526114       0.75              0.0000   1543507200   \n",
       "4   1543405904  1543439738       0.72              0.0001   1543420800   \n",
       "\n",
       "   temperatureMin  temperatureMinTime  temperatureMax  temperatureMaxTime  \\\n",
       "0           39.89          1545012000           43.68          1544968800   \n",
       "1           40.49          1543233600           47.30          1543251600   \n",
       "2           35.36          1543377600           47.55          1543320000   \n",
       "3           34.67          1543550400           45.03          1543510800   \n",
       "4           33.10          1543402800           42.18          1543420800   \n",
       "\n",
       "   apparentTemperatureMin  apparentTemperatureMinTime  apparentTemperatureMax  \\\n",
       "0                   33.73                  1545012000                   38.07   \n",
       "1                   36.20                  1543291200                   43.92   \n",
       "2                   31.04                  1543377600                   44.12   \n",
       "3                   30.30                  1543550400                   38.53   \n",
       "4                   29.11                  1543392000                   35.75   \n",
       "\n",
       "   apparentTemperatureMaxTime  \n",
       "0                  1544958000  \n",
       "1                  1543251600  \n",
       "2                  1543320000  \n",
       "3                  1543510800  \n",
       "4                  1543420800  "
      ]
     },
     "execution_count": 3,
     "metadata": {},
     "output_type": "execute_result"
    }
   ],
   "source": [
    "df=pd.read_csv(\"/kaggle/input/uber-and-lyft-dataset-boston-ma/rideshare_kaggle.csv\")\n",
    "df.head()"
   ]
  },
  {
   "cell_type": "code",
   "execution_count": 4,
   "id": "3f3cec54",
   "metadata": {
    "execution": {
     "iopub.execute_input": "2023-06-03T05:22:22.395532Z",
     "iopub.status.busy": "2023-06-03T05:22:22.395113Z",
     "iopub.status.idle": "2023-06-03T05:22:24.912455Z",
     "shell.execute_reply": "2023-06-03T05:22:24.911302Z"
    },
    "papermill": {
     "duration": 2.541805,
     "end_time": "2023-06-03T05:22:24.916134",
     "exception": false,
     "start_time": "2023-06-03T05:22:22.374329",
     "status": "completed"
    },
    "tags": []
   },
   "outputs": [
    {
     "name": "stdout",
     "output_type": "stream",
     "text": [
      "<class 'pandas.core.frame.DataFrame'>\n",
      "RangeIndex: 693071 entries, 0 to 693070\n",
      "Data columns (total 57 columns):\n",
      " #   Column                       Non-Null Count   Dtype  \n",
      "---  ------                       --------------   -----  \n",
      " 0   id                           693071 non-null  object \n",
      " 1   timestamp                    693071 non-null  float64\n",
      " 2   hour                         693071 non-null  int64  \n",
      " 3   day                          693071 non-null  int64  \n",
      " 4   month                        693071 non-null  int64  \n",
      " 5   datetime                     693071 non-null  object \n",
      " 6   timezone                     693071 non-null  object \n",
      " 7   source                       693071 non-null  object \n",
      " 8   destination                  693071 non-null  object \n",
      " 9   cab_type                     693071 non-null  object \n",
      " 10  product_id                   693071 non-null  object \n",
      " 11  name                         693071 non-null  object \n",
      " 12  price                        637976 non-null  float64\n",
      " 13  distance                     693071 non-null  float64\n",
      " 14  surge_multiplier             693071 non-null  float64\n",
      " 15  latitude                     693071 non-null  float64\n",
      " 16  longitude                    693071 non-null  float64\n",
      " 17  temperature                  693071 non-null  float64\n",
      " 18  apparentTemperature          693071 non-null  float64\n",
      " 19  short_summary                693071 non-null  object \n",
      " 20  long_summary                 693071 non-null  object \n",
      " 21  precipIntensity              693071 non-null  float64\n",
      " 22  precipProbability            693071 non-null  float64\n",
      " 23  humidity                     693071 non-null  float64\n",
      " 24  windSpeed                    693071 non-null  float64\n",
      " 25  windGust                     693071 non-null  float64\n",
      " 26  windGustTime                 693071 non-null  int64  \n",
      " 27  visibility                   693071 non-null  float64\n",
      " 28  temperatureHigh              693071 non-null  float64\n",
      " 29  temperatureHighTime          693071 non-null  int64  \n",
      " 30  temperatureLow               693071 non-null  float64\n",
      " 31  temperatureLowTime           693071 non-null  int64  \n",
      " 32  apparentTemperatureHigh      693071 non-null  float64\n",
      " 33  apparentTemperatureHighTime  693071 non-null  int64  \n",
      " 34  apparentTemperatureLow       693071 non-null  float64\n",
      " 35  apparentTemperatureLowTime   693071 non-null  int64  \n",
      " 36  icon                         693071 non-null  object \n",
      " 37  dewPoint                     693071 non-null  float64\n",
      " 38  pressure                     693071 non-null  float64\n",
      " 39  windBearing                  693071 non-null  int64  \n",
      " 40  cloudCover                   693071 non-null  float64\n",
      " 41  uvIndex                      693071 non-null  int64  \n",
      " 42  visibility.1                 693071 non-null  float64\n",
      " 43  ozone                        693071 non-null  float64\n",
      " 44  sunriseTime                  693071 non-null  int64  \n",
      " 45  sunsetTime                   693071 non-null  int64  \n",
      " 46  moonPhase                    693071 non-null  float64\n",
      " 47  precipIntensityMax           693071 non-null  float64\n",
      " 48  uvIndexTime                  693071 non-null  int64  \n",
      " 49  temperatureMin               693071 non-null  float64\n",
      " 50  temperatureMinTime           693071 non-null  int64  \n",
      " 51  temperatureMax               693071 non-null  float64\n",
      " 52  temperatureMaxTime           693071 non-null  int64  \n",
      " 53  apparentTemperatureMin       693071 non-null  float64\n",
      " 54  apparentTemperatureMinTime   693071 non-null  int64  \n",
      " 55  apparentTemperatureMax       693071 non-null  float64\n",
      " 56  apparentTemperatureMaxTime   693071 non-null  int64  \n",
      "dtypes: float64(29), int64(17), object(11)\n",
      "memory usage: 301.4+ MB\n"
     ]
    }
   ],
   "source": [
    "df.info()"
   ]
  },
  {
   "cell_type": "code",
   "execution_count": 5,
   "id": "32f3aa46",
   "metadata": {
    "execution": {
     "iopub.execute_input": "2023-06-03T05:22:24.957527Z",
     "iopub.status.busy": "2023-06-03T05:22:24.957125Z",
     "iopub.status.idle": "2023-06-03T05:22:25.271443Z",
     "shell.execute_reply": "2023-06-03T05:22:25.270189Z"
    },
    "papermill": {
     "duration": 0.338215,
     "end_time": "2023-06-03T05:22:25.274212",
     "exception": false,
     "start_time": "2023-06-03T05:22:24.935997",
     "status": "completed"
    },
    "tags": []
   },
   "outputs": [],
   "source": [
    "df['datetime']=pd.to_datetime(df['datetime'])"
   ]
  },
  {
   "cell_type": "code",
   "execution_count": 6,
   "id": "5893a530",
   "metadata": {
    "execution": {
     "iopub.execute_input": "2023-06-03T05:22:25.316083Z",
     "iopub.status.busy": "2023-06-03T05:22:25.315670Z",
     "iopub.status.idle": "2023-06-03T05:22:25.323133Z",
     "shell.execute_reply": "2023-06-03T05:22:25.322101Z"
    },
    "papermill": {
     "duration": 0.031546,
     "end_time": "2023-06-03T05:22:25.325566",
     "exception": false,
     "start_time": "2023-06-03T05:22:25.294020",
     "status": "completed"
    },
    "tags": []
   },
   "outputs": [
    {
     "data": {
      "text/plain": [
       "Index(['id', 'timestamp', 'hour', 'day', 'month', 'datetime', 'timezone',\n",
       "       'source', 'destination', 'cab_type', 'product_id', 'name', 'price',\n",
       "       'distance', 'surge_multiplier', 'latitude', 'longitude', 'temperature',\n",
       "       'apparentTemperature', 'short_summary', 'long_summary',\n",
       "       'precipIntensity', 'precipProbability', 'humidity', 'windSpeed',\n",
       "       'windGust', 'windGustTime', 'visibility', 'temperatureHigh',\n",
       "       'temperatureHighTime', 'temperatureLow', 'temperatureLowTime',\n",
       "       'apparentTemperatureHigh', 'apparentTemperatureHighTime',\n",
       "       'apparentTemperatureLow', 'apparentTemperatureLowTime', 'icon',\n",
       "       'dewPoint', 'pressure', 'windBearing', 'cloudCover', 'uvIndex',\n",
       "       'visibility.1', 'ozone', 'sunriseTime', 'sunsetTime', 'moonPhase',\n",
       "       'precipIntensityMax', 'uvIndexTime', 'temperatureMin',\n",
       "       'temperatureMinTime', 'temperatureMax', 'temperatureMaxTime',\n",
       "       'apparentTemperatureMin', 'apparentTemperatureMinTime',\n",
       "       'apparentTemperatureMax', 'apparentTemperatureMaxTime'],\n",
       "      dtype='object')"
      ]
     },
     "execution_count": 6,
     "metadata": {},
     "output_type": "execute_result"
    }
   ],
   "source": [
    "df.columns"
   ]
  },
  {
   "cell_type": "markdown",
   "id": "af910ca3",
   "metadata": {
    "papermill": {
     "duration": 0.019259,
     "end_time": "2023-06-03T05:22:25.364726",
     "exception": false,
     "start_time": "2023-06-03T05:22:25.345467",
     "status": "completed"
    },
    "tags": []
   },
   "source": [
    "## Data Cleaning"
   ]
  },
  {
   "cell_type": "code",
   "execution_count": 7,
   "id": "4c365347",
   "metadata": {
    "execution": {
     "iopub.execute_input": "2023-06-03T05:22:25.406370Z",
     "iopub.status.busy": "2023-06-03T05:22:25.405934Z",
     "iopub.status.idle": "2023-06-03T05:22:27.605045Z",
     "shell.execute_reply": "2023-06-03T05:22:27.603969Z"
    },
    "papermill": {
     "duration": 2.223198,
     "end_time": "2023-06-03T05:22:27.607772",
     "exception": false,
     "start_time": "2023-06-03T05:22:25.384574",
     "status": "completed"
    },
    "tags": []
   },
   "outputs": [
    {
     "data": {
      "text/plain": [
       "55095"
      ]
     },
     "execution_count": 7,
     "metadata": {},
     "output_type": "execute_result"
    }
   ],
   "source": [
    "df.isnull().sum().sum()"
   ]
  },
  {
   "cell_type": "code",
   "execution_count": 8,
   "id": "e304e845",
   "metadata": {
    "execution": {
     "iopub.execute_input": "2023-06-03T05:22:27.650789Z",
     "iopub.status.busy": "2023-06-03T05:22:27.650421Z",
     "iopub.status.idle": "2023-06-03T05:22:30.051127Z",
     "shell.execute_reply": "2023-06-03T05:22:30.050312Z"
    },
    "papermill": {
     "duration": 2.425223,
     "end_time": "2023-06-03T05:22:30.053535",
     "exception": false,
     "start_time": "2023-06-03T05:22:27.628312",
     "status": "completed"
    },
    "tags": []
   },
   "outputs": [],
   "source": [
    "df.dropna(axis=0,inplace=True)"
   ]
  },
  {
   "cell_type": "code",
   "execution_count": 9,
   "id": "0515430b",
   "metadata": {
    "execution": {
     "iopub.execute_input": "2023-06-03T05:22:30.095476Z",
     "iopub.status.busy": "2023-06-03T05:22:30.094868Z",
     "iopub.status.idle": "2023-06-03T05:22:32.118100Z",
     "shell.execute_reply": "2023-06-03T05:22:32.116982Z"
    },
    "papermill": {
     "duration": 2.046584,
     "end_time": "2023-06-03T05:22:32.120672",
     "exception": false,
     "start_time": "2023-06-03T05:22:30.074088",
     "status": "completed"
    },
    "tags": []
   },
   "outputs": [
    {
     "data": {
      "text/plain": [
       "0"
      ]
     },
     "execution_count": 9,
     "metadata": {},
     "output_type": "execute_result"
    }
   ],
   "source": [
    "df.isnull().sum().sum()"
   ]
  },
  {
   "cell_type": "code",
   "execution_count": 10,
   "id": "e828f711",
   "metadata": {
    "execution": {
     "iopub.execute_input": "2023-06-03T05:22:32.162937Z",
     "iopub.status.busy": "2023-06-03T05:22:32.161962Z",
     "iopub.status.idle": "2023-06-03T05:22:32.170289Z",
     "shell.execute_reply": "2023-06-03T05:22:32.169427Z"
    },
    "papermill": {
     "duration": 0.031782,
     "end_time": "2023-06-03T05:22:32.172431",
     "exception": false,
     "start_time": "2023-06-03T05:22:32.140649",
     "status": "completed"
    },
    "tags": []
   },
   "outputs": [
    {
     "data": {
      "text/plain": [
       "0    10.000\n",
       "1     4.786\n",
       "2    10.000\n",
       "3    10.000\n",
       "4    10.000\n",
       "Name: visibility, dtype: float64"
      ]
     },
     "execution_count": 10,
     "metadata": {},
     "output_type": "execute_result"
    }
   ],
   "source": [
    "df['visibility'].head()"
   ]
  },
  {
   "cell_type": "code",
   "execution_count": 11,
   "id": "499a41ac",
   "metadata": {
    "execution": {
     "iopub.execute_input": "2023-06-03T05:22:32.214465Z",
     "iopub.status.busy": "2023-06-03T05:22:32.213700Z",
     "iopub.status.idle": "2023-06-03T05:22:32.221783Z",
     "shell.execute_reply": "2023-06-03T05:22:32.220855Z"
    },
    "papermill": {
     "duration": 0.031538,
     "end_time": "2023-06-03T05:22:32.223909",
     "exception": false,
     "start_time": "2023-06-03T05:22:32.192371",
     "status": "completed"
    },
    "tags": []
   },
   "outputs": [
    {
     "data": {
      "text/plain": [
       "0    10.000\n",
       "1     4.786\n",
       "2    10.000\n",
       "3    10.000\n",
       "4    10.000\n",
       "Name: visibility.1, dtype: float64"
      ]
     },
     "execution_count": 11,
     "metadata": {},
     "output_type": "execute_result"
    }
   ],
   "source": [
    "df['visibility.1'].head()"
   ]
  },
  {
   "cell_type": "code",
   "execution_count": 12,
   "id": "b049312a",
   "metadata": {
    "execution": {
     "iopub.execute_input": "2023-06-03T05:22:32.266372Z",
     "iopub.status.busy": "2023-06-03T05:22:32.265963Z",
     "iopub.status.idle": "2023-06-03T05:22:32.455586Z",
     "shell.execute_reply": "2023-06-03T05:22:32.454695Z"
    },
    "papermill": {
     "duration": 0.213991,
     "end_time": "2023-06-03T05:22:32.458139",
     "exception": false,
     "start_time": "2023-06-03T05:22:32.244148",
     "status": "completed"
    },
    "tags": []
   },
   "outputs": [],
   "source": [
    "df = df.drop(['visibility.1'],axis=1)"
   ]
  },
  {
   "cell_type": "markdown",
   "id": "e2383dea",
   "metadata": {
    "papermill": {
     "duration": 0.020067,
     "end_time": "2023-06-03T05:22:32.498857",
     "exception": false,
     "start_time": "2023-06-03T05:22:32.478790",
     "status": "completed"
    },
    "tags": []
   },
   "source": [
    "### We can see average or mean of our price data in every route (source-destination) through table below"
   ]
  },
  {
   "cell_type": "code",
   "execution_count": 13,
   "id": "e185bd8f",
   "metadata": {
    "execution": {
     "iopub.execute_input": "2023-06-03T05:22:32.542472Z",
     "iopub.status.busy": "2023-06-03T05:22:32.541870Z",
     "iopub.status.idle": "2023-06-03T05:22:32.731237Z",
     "shell.execute_reply": "2023-06-03T05:22:32.730109Z"
    },
    "papermill": {
     "duration": 0.214312,
     "end_time": "2023-06-03T05:22:32.734186",
     "exception": false,
     "start_time": "2023-06-03T05:22:32.519874",
     "status": "completed"
    },
    "tags": []
   },
   "outputs": [
    {
     "data": {
      "text/html": [
       "<div>\n",
       "<style scoped>\n",
       "    .dataframe tbody tr th:only-of-type {\n",
       "        vertical-align: middle;\n",
       "    }\n",
       "\n",
       "    .dataframe tbody tr th {\n",
       "        vertical-align: top;\n",
       "    }\n",
       "\n",
       "    .dataframe thead th {\n",
       "        text-align: right;\n",
       "    }\n",
       "</style>\n",
       "<table border=\"1\" class=\"dataframe\">\n",
       "  <thead>\n",
       "    <tr style=\"text-align: right;\">\n",
       "      <th></th>\n",
       "      <th></th>\n",
       "      <th>mean</th>\n",
       "    </tr>\n",
       "    <tr>\n",
       "      <th>source</th>\n",
       "      <th>destination</th>\n",
       "      <th></th>\n",
       "    </tr>\n",
       "  </thead>\n",
       "  <tbody>\n",
       "    <tr>\n",
       "      <th rowspan=\"6\" valign=\"top\">Back Bay</th>\n",
       "      <th>Boston University</th>\n",
       "      <td>14.039392</td>\n",
       "    </tr>\n",
       "    <tr>\n",
       "      <th>Fenway</th>\n",
       "      <td>13.658752</td>\n",
       "    </tr>\n",
       "    <tr>\n",
       "      <th>Haymarket Square</th>\n",
       "      <td>17.987384</td>\n",
       "    </tr>\n",
       "    <tr>\n",
       "      <th>North End</th>\n",
       "      <td>19.473019</td>\n",
       "    </tr>\n",
       "    <tr>\n",
       "      <th>Northeastern University</th>\n",
       "      <td>13.151040</td>\n",
       "    </tr>\n",
       "    <tr>\n",
       "      <th>South Station</th>\n",
       "      <td>17.700711</td>\n",
       "    </tr>\n",
       "    <tr>\n",
       "      <th rowspan=\"6\" valign=\"top\">Beacon Hill</th>\n",
       "      <th>Boston University</th>\n",
       "      <td>16.376737</td>\n",
       "    </tr>\n",
       "    <tr>\n",
       "      <th>Fenway</th>\n",
       "      <td>16.158840</td>\n",
       "    </tr>\n",
       "    <tr>\n",
       "      <th>Haymarket Square</th>\n",
       "      <td>13.799137</td>\n",
       "    </tr>\n",
       "    <tr>\n",
       "      <th>North End</th>\n",
       "      <td>15.270942</td>\n",
       "    </tr>\n",
       "    <tr>\n",
       "      <th>Northeastern University</th>\n",
       "      <td>16.471792</td>\n",
       "    </tr>\n",
       "    <tr>\n",
       "      <th>South Station</th>\n",
       "      <td>15.950661</td>\n",
       "    </tr>\n",
       "    <tr>\n",
       "      <th rowspan=\"6\" valign=\"top\">Boston University</th>\n",
       "      <th>Back Bay</th>\n",
       "      <td>13.992801</td>\n",
       "    </tr>\n",
       "    <tr>\n",
       "      <th>Beacon Hill</th>\n",
       "      <td>17.315535</td>\n",
       "    </tr>\n",
       "    <tr>\n",
       "      <th>Financial District</th>\n",
       "      <td>24.146085</td>\n",
       "    </tr>\n",
       "    <tr>\n",
       "      <th>North Station</th>\n",
       "      <td>20.185338</td>\n",
       "    </tr>\n",
       "    <tr>\n",
       "      <th>Theatre District</th>\n",
       "      <td>18.689557</td>\n",
       "    </tr>\n",
       "    <tr>\n",
       "      <th>West End</th>\n",
       "      <td>18.611766</td>\n",
       "    </tr>\n",
       "    <tr>\n",
       "      <th rowspan=\"6\" valign=\"top\">Fenway</th>\n",
       "      <th>Back Bay</th>\n",
       "      <td>13.802155</td>\n",
       "    </tr>\n",
       "    <tr>\n",
       "      <th>Beacon Hill</th>\n",
       "      <td>16.796674</td>\n",
       "    </tr>\n",
       "    <tr>\n",
       "      <th>Financial District</th>\n",
       "      <td>23.438818</td>\n",
       "    </tr>\n",
       "    <tr>\n",
       "      <th>North Station</th>\n",
       "      <td>19.701839</td>\n",
       "    </tr>\n",
       "    <tr>\n",
       "      <th>Theatre District</th>\n",
       "      <td>18.232722</td>\n",
       "    </tr>\n",
       "    <tr>\n",
       "      <th>West End</th>\n",
       "      <td>18.161806</td>\n",
       "    </tr>\n",
       "    <tr>\n",
       "      <th rowspan=\"6\" valign=\"top\">Financial District</th>\n",
       "      <th>Boston University</th>\n",
       "      <td>25.498434</td>\n",
       "    </tr>\n",
       "    <tr>\n",
       "      <th>Fenway</th>\n",
       "      <td>23.404850</td>\n",
       "    </tr>\n",
       "    <tr>\n",
       "      <th>Haymarket Square</th>\n",
       "      <td>13.188209</td>\n",
       "    </tr>\n",
       "    <tr>\n",
       "      <th>North End</th>\n",
       "      <td>13.179635</td>\n",
       "    </tr>\n",
       "    <tr>\n",
       "      <th>Northeastern University</th>\n",
       "      <td>21.918584</td>\n",
       "    </tr>\n",
       "    <tr>\n",
       "      <th>South Station</th>\n",
       "      <td>12.349066</td>\n",
       "    </tr>\n",
       "    <tr>\n",
       "      <th rowspan=\"6\" valign=\"top\">Haymarket Square</th>\n",
       "      <th>Back Bay</th>\n",
       "      <td>16.860489</td>\n",
       "    </tr>\n",
       "    <tr>\n",
       "      <th>Beacon Hill</th>\n",
       "      <td>13.338559</td>\n",
       "    </tr>\n",
       "    <tr>\n",
       "      <th>Financial District</th>\n",
       "      <td>12.731618</td>\n",
       "    </tr>\n",
       "    <tr>\n",
       "      <th>North Station</th>\n",
       "      <td>12.332545</td>\n",
       "    </tr>\n",
       "    <tr>\n",
       "      <th>Theatre District</th>\n",
       "      <td>13.677272</td>\n",
       "    </tr>\n",
       "    <tr>\n",
       "      <th>West End</th>\n",
       "      <td>12.529855</td>\n",
       "    </tr>\n",
       "    <tr>\n",
       "      <th rowspan=\"6\" valign=\"top\">North End</th>\n",
       "      <th>Back Bay</th>\n",
       "      <td>19.550935</td>\n",
       "    </tr>\n",
       "    <tr>\n",
       "      <th>Beacon Hill</th>\n",
       "      <td>15.982630</td>\n",
       "    </tr>\n",
       "    <tr>\n",
       "      <th>Financial District</th>\n",
       "      <td>13.417597</td>\n",
       "    </tr>\n",
       "    <tr>\n",
       "      <th>North Station</th>\n",
       "      <td>12.824092</td>\n",
       "    </tr>\n",
       "    <tr>\n",
       "      <th>Theatre District</th>\n",
       "      <td>15.169406</td>\n",
       "    </tr>\n",
       "    <tr>\n",
       "      <th>West End</th>\n",
       "      <td>13.494873</td>\n",
       "    </tr>\n",
       "    <tr>\n",
       "      <th rowspan=\"6\" valign=\"top\">North Station</th>\n",
       "      <th>Boston University</th>\n",
       "      <td>18.931558</td>\n",
       "    </tr>\n",
       "    <tr>\n",
       "      <th>Fenway</th>\n",
       "      <td>18.547603</td>\n",
       "    </tr>\n",
       "    <tr>\n",
       "      <th>Haymarket Square</th>\n",
       "      <td>12.571791</td>\n",
       "    </tr>\n",
       "    <tr>\n",
       "      <th>North End</th>\n",
       "      <td>13.106641</td>\n",
       "    </tr>\n",
       "    <tr>\n",
       "      <th>Northeastern University</th>\n",
       "      <td>19.537848</td>\n",
       "    </tr>\n",
       "    <tr>\n",
       "      <th>South Station</th>\n",
       "      <td>15.374198</td>\n",
       "    </tr>\n",
       "    <tr>\n",
       "      <th rowspan=\"6\" valign=\"top\">Northeastern University</th>\n",
       "      <th>Back Bay</th>\n",
       "      <td>13.698923</td>\n",
       "    </tr>\n",
       "    <tr>\n",
       "      <th>Beacon Hill</th>\n",
       "      <td>16.842433</td>\n",
       "    </tr>\n",
       "    <tr>\n",
       "      <th>Financial District</th>\n",
       "      <td>22.582094</td>\n",
       "    </tr>\n",
       "    <tr>\n",
       "      <th>North Station</th>\n",
       "      <td>19.910939</td>\n",
       "    </tr>\n",
       "    <tr>\n",
       "      <th>Theatre District</th>\n",
       "      <td>16.144805</td>\n",
       "    </tr>\n",
       "    <tr>\n",
       "      <th>West End</th>\n",
       "      <td>18.204155</td>\n",
       "    </tr>\n",
       "    <tr>\n",
       "      <th rowspan=\"6\" valign=\"top\">South Station</th>\n",
       "      <th>Back Bay</th>\n",
       "      <td>19.103822</td>\n",
       "    </tr>\n",
       "    <tr>\n",
       "      <th>Beacon Hill</th>\n",
       "      <td>17.276304</td>\n",
       "    </tr>\n",
       "    <tr>\n",
       "      <th>Financial District</th>\n",
       "      <td>12.436910</td>\n",
       "    </tr>\n",
       "    <tr>\n",
       "      <th>North Station</th>\n",
       "      <td>15.746736</td>\n",
       "    </tr>\n",
       "    <tr>\n",
       "      <th>Theatre District</th>\n",
       "      <td>13.952579</td>\n",
       "    </tr>\n",
       "    <tr>\n",
       "      <th>West End</th>\n",
       "      <td>15.881172</td>\n",
       "    </tr>\n",
       "    <tr>\n",
       "      <th rowspan=\"6\" valign=\"top\">Theatre District</th>\n",
       "      <th>Boston University</th>\n",
       "      <td>20.360662</td>\n",
       "    </tr>\n",
       "    <tr>\n",
       "      <th>Fenway</th>\n",
       "      <td>19.069278</td>\n",
       "    </tr>\n",
       "    <tr>\n",
       "      <th>Haymarket Square</th>\n",
       "      <td>15.204973</td>\n",
       "    </tr>\n",
       "    <tr>\n",
       "      <th>North End</th>\n",
       "      <td>15.159646</td>\n",
       "    </tr>\n",
       "    <tr>\n",
       "      <th>Northeastern University</th>\n",
       "      <td>16.910751</td>\n",
       "    </tr>\n",
       "    <tr>\n",
       "      <th>South Station</th>\n",
       "      <td>12.888926</td>\n",
       "    </tr>\n",
       "    <tr>\n",
       "      <th rowspan=\"6\" valign=\"top\">West End</th>\n",
       "      <th>Boston University</th>\n",
       "      <td>18.157165</td>\n",
       "    </tr>\n",
       "    <tr>\n",
       "      <th>Fenway</th>\n",
       "      <td>17.932692</td>\n",
       "    </tr>\n",
       "    <tr>\n",
       "      <th>Haymarket Square</th>\n",
       "      <td>12.771290</td>\n",
       "    </tr>\n",
       "    <tr>\n",
       "      <th>North End</th>\n",
       "      <td>13.370017</td>\n",
       "    </tr>\n",
       "    <tr>\n",
       "      <th>Northeastern University</th>\n",
       "      <td>18.964969</td>\n",
       "    </tr>\n",
       "    <tr>\n",
       "      <th>South Station</th>\n",
       "      <td>15.018255</td>\n",
       "    </tr>\n",
       "  </tbody>\n",
       "</table>\n",
       "</div>"
      ],
      "text/plain": [
       "                                                      mean\n",
       "source                  destination                       \n",
       "Back Bay                Boston University        14.039392\n",
       "                        Fenway                   13.658752\n",
       "                        Haymarket Square         17.987384\n",
       "                        North End                19.473019\n",
       "                        Northeastern University  13.151040\n",
       "                        South Station            17.700711\n",
       "Beacon Hill             Boston University        16.376737\n",
       "                        Fenway                   16.158840\n",
       "                        Haymarket Square         13.799137\n",
       "                        North End                15.270942\n",
       "                        Northeastern University  16.471792\n",
       "                        South Station            15.950661\n",
       "Boston University       Back Bay                 13.992801\n",
       "                        Beacon Hill              17.315535\n",
       "                        Financial District       24.146085\n",
       "                        North Station            20.185338\n",
       "                        Theatre District         18.689557\n",
       "                        West End                 18.611766\n",
       "Fenway                  Back Bay                 13.802155\n",
       "                        Beacon Hill              16.796674\n",
       "                        Financial District       23.438818\n",
       "                        North Station            19.701839\n",
       "                        Theatre District         18.232722\n",
       "                        West End                 18.161806\n",
       "Financial District      Boston University        25.498434\n",
       "                        Fenway                   23.404850\n",
       "                        Haymarket Square         13.188209\n",
       "                        North End                13.179635\n",
       "                        Northeastern University  21.918584\n",
       "                        South Station            12.349066\n",
       "Haymarket Square        Back Bay                 16.860489\n",
       "                        Beacon Hill              13.338559\n",
       "                        Financial District       12.731618\n",
       "                        North Station            12.332545\n",
       "                        Theatre District         13.677272\n",
       "                        West End                 12.529855\n",
       "North End               Back Bay                 19.550935\n",
       "                        Beacon Hill              15.982630\n",
       "                        Financial District       13.417597\n",
       "                        North Station            12.824092\n",
       "                        Theatre District         15.169406\n",
       "                        West End                 13.494873\n",
       "North Station           Boston University        18.931558\n",
       "                        Fenway                   18.547603\n",
       "                        Haymarket Square         12.571791\n",
       "                        North End                13.106641\n",
       "                        Northeastern University  19.537848\n",
       "                        South Station            15.374198\n",
       "Northeastern University Back Bay                 13.698923\n",
       "                        Beacon Hill              16.842433\n",
       "                        Financial District       22.582094\n",
       "                        North Station            19.910939\n",
       "                        Theatre District         16.144805\n",
       "                        West End                 18.204155\n",
       "South Station           Back Bay                 19.103822\n",
       "                        Beacon Hill              17.276304\n",
       "                        Financial District       12.436910\n",
       "                        North Station            15.746736\n",
       "                        Theatre District         13.952579\n",
       "                        West End                 15.881172\n",
       "Theatre District        Boston University        20.360662\n",
       "                        Fenway                   19.069278\n",
       "                        Haymarket Square         15.204973\n",
       "                        North End                15.159646\n",
       "                        Northeastern University  16.910751\n",
       "                        South Station            12.888926\n",
       "West End                Boston University        18.157165\n",
       "                        Fenway                   17.932692\n",
       "                        Haymarket Square         12.771290\n",
       "                        North End                13.370017\n",
       "                        Northeastern University  18.964969\n",
       "                        South Station            15.018255"
      ]
     },
     "execution_count": 13,
     "metadata": {},
     "output_type": "execute_result"
    }
   ],
   "source": [
    "\n",
    "pd.set_option('display.max_rows', 72)\n",
    "df.groupby(by=[\"source\",\"destination\"]).price.agg([\"mean\"])"
   ]
  },
  {
   "cell_type": "markdown",
   "id": "bafb842d",
   "metadata": {
    "papermill": {
     "duration": 0.021658,
     "end_time": "2023-06-03T05:22:32.777677",
     "exception": false,
     "start_time": "2023-06-03T05:22:32.756019",
     "status": "completed"
    },
    "tags": []
   },
   "source": [
    "#### And we can see our maximum price data"
   ]
  },
  {
   "cell_type": "code",
   "execution_count": 14,
   "id": "596aa4fa",
   "metadata": {
    "execution": {
     "iopub.execute_input": "2023-06-03T05:22:32.822006Z",
     "iopub.status.busy": "2023-06-03T05:22:32.821630Z",
     "iopub.status.idle": "2023-06-03T05:22:32.867512Z",
     "shell.execute_reply": "2023-06-03T05:22:32.866518Z"
    },
    "papermill": {
     "duration": 0.071505,
     "end_time": "2023-06-03T05:22:32.870473",
     "exception": false,
     "start_time": "2023-06-03T05:22:32.798968",
     "status": "completed"
    },
    "tags": []
   },
   "outputs": [
    {
     "name": "stdout",
     "output_type": "stream",
     "text": [
      "Maximum price in our data : 97.5\n"
     ]
    },
    {
     "data": {
      "text/html": [
       "<div>\n",
       "<style scoped>\n",
       "    .dataframe tbody tr th:only-of-type {\n",
       "        vertical-align: middle;\n",
       "    }\n",
       "\n",
       "    .dataframe tbody tr th {\n",
       "        vertical-align: top;\n",
       "    }\n",
       "\n",
       "    .dataframe thead th {\n",
       "        text-align: right;\n",
       "    }\n",
       "</style>\n",
       "<table border=\"1\" class=\"dataframe\">\n",
       "  <thead>\n",
       "    <tr style=\"text-align: right;\">\n",
       "      <th></th>\n",
       "      <th>id</th>\n",
       "      <th>timestamp</th>\n",
       "      <th>hour</th>\n",
       "      <th>day</th>\n",
       "      <th>month</th>\n",
       "      <th>datetime</th>\n",
       "      <th>timezone</th>\n",
       "      <th>source</th>\n",
       "      <th>destination</th>\n",
       "      <th>cab_type</th>\n",
       "      <th>product_id</th>\n",
       "      <th>name</th>\n",
       "      <th>price</th>\n",
       "      <th>distance</th>\n",
       "      <th>surge_multiplier</th>\n",
       "      <th>latitude</th>\n",
       "      <th>longitude</th>\n",
       "      <th>temperature</th>\n",
       "      <th>apparentTemperature</th>\n",
       "      <th>short_summary</th>\n",
       "      <th>long_summary</th>\n",
       "      <th>precipIntensity</th>\n",
       "      <th>precipProbability</th>\n",
       "      <th>humidity</th>\n",
       "      <th>windSpeed</th>\n",
       "      <th>windGust</th>\n",
       "      <th>windGustTime</th>\n",
       "      <th>visibility</th>\n",
       "      <th>temperatureHigh</th>\n",
       "      <th>temperatureHighTime</th>\n",
       "      <th>temperatureLow</th>\n",
       "      <th>temperatureLowTime</th>\n",
       "      <th>apparentTemperatureHigh</th>\n",
       "      <th>apparentTemperatureHighTime</th>\n",
       "      <th>apparentTemperatureLow</th>\n",
       "      <th>apparentTemperatureLowTime</th>\n",
       "      <th>icon</th>\n",
       "      <th>dewPoint</th>\n",
       "      <th>pressure</th>\n",
       "      <th>windBearing</th>\n",
       "      <th>cloudCover</th>\n",
       "      <th>uvIndex</th>\n",
       "      <th>ozone</th>\n",
       "      <th>sunriseTime</th>\n",
       "      <th>sunsetTime</th>\n",
       "      <th>moonPhase</th>\n",
       "      <th>precipIntensityMax</th>\n",
       "      <th>uvIndexTime</th>\n",
       "      <th>temperatureMin</th>\n",
       "      <th>temperatureMinTime</th>\n",
       "      <th>temperatureMax</th>\n",
       "      <th>temperatureMaxTime</th>\n",
       "      <th>apparentTemperatureMin</th>\n",
       "      <th>apparentTemperatureMinTime</th>\n",
       "      <th>apparentTemperatureMax</th>\n",
       "      <th>apparentTemperatureMaxTime</th>\n",
       "    </tr>\n",
       "  </thead>\n",
       "  <tbody>\n",
       "    <tr>\n",
       "      <th>597071</th>\n",
       "      <td>ba1593a1-e4fd-4c7a-a011-e2d4fccbf081</td>\n",
       "      <td>1.543714e+09</td>\n",
       "      <td>1</td>\n",
       "      <td>2</td>\n",
       "      <td>12</td>\n",
       "      <td>2018-12-02 01:28:02</td>\n",
       "      <td>America/New_York</td>\n",
       "      <td>Financial District</td>\n",
       "      <td>Fenway</td>\n",
       "      <td>Lyft</td>\n",
       "      <td>lyft_luxsuv</td>\n",
       "      <td>Lux Black XL</td>\n",
       "      <td>97.5</td>\n",
       "      <td>4.43</td>\n",
       "      <td>2.0</td>\n",
       "      <td>42.3503</td>\n",
       "      <td>-71.081</td>\n",
       "      <td>35.52</td>\n",
       "      <td>35.52</td>\n",
       "      <td>Clear</td>\n",
       "      <td>Light rain in the morning and overnight.</td>\n",
       "      <td>0.0</td>\n",
       "      <td>0.0</td>\n",
       "      <td>0.82</td>\n",
       "      <td>1.85</td>\n",
       "      <td>2.37</td>\n",
       "      <td>1543672800</td>\n",
       "      <td>9.846</td>\n",
       "      <td>44.65</td>\n",
       "      <td>1543690800</td>\n",
       "      <td>34.88</td>\n",
       "      <td>1543712400</td>\n",
       "      <td>43.98</td>\n",
       "      <td>1543690800</td>\n",
       "      <td>35.53</td>\n",
       "      <td>1543712400</td>\n",
       "      <td>clear-night</td>\n",
       "      <td>30.46</td>\n",
       "      <td>1023.52</td>\n",
       "      <td>146</td>\n",
       "      <td>0.12</td>\n",
       "      <td>0</td>\n",
       "      <td>274.6</td>\n",
       "      <td>1543665335</td>\n",
       "      <td>1543698860</td>\n",
       "      <td>0.82</td>\n",
       "      <td>0.0</td>\n",
       "      <td>1543683600</td>\n",
       "      <td>31.57</td>\n",
       "      <td>1543665600</td>\n",
       "      <td>44.65</td>\n",
       "      <td>1543690800</td>\n",
       "      <td>28.1</td>\n",
       "      <td>1543658400</td>\n",
       "      <td>43.98</td>\n",
       "      <td>1543690800</td>\n",
       "    </tr>\n",
       "  </tbody>\n",
       "</table>\n",
       "</div>"
      ],
      "text/plain": [
       "                                          id     timestamp  hour  day  month  \\\n",
       "597071  ba1593a1-e4fd-4c7a-a011-e2d4fccbf081  1.543714e+09     1    2     12   \n",
       "\n",
       "                  datetime          timezone              source destination  \\\n",
       "597071 2018-12-02 01:28:02  America/New_York  Financial District      Fenway   \n",
       "\n",
       "       cab_type   product_id          name  price  distance  surge_multiplier  \\\n",
       "597071     Lyft  lyft_luxsuv  Lux Black XL   97.5      4.43               2.0   \n",
       "\n",
       "        latitude  longitude  temperature  apparentTemperature short_summary  \\\n",
       "597071   42.3503    -71.081        35.52                35.52        Clear    \n",
       "\n",
       "                                      long_summary  precipIntensity  \\\n",
       "597071   Light rain in the morning and overnight.               0.0   \n",
       "\n",
       "        precipProbability  humidity  windSpeed  windGust  windGustTime  \\\n",
       "597071                0.0      0.82       1.85      2.37    1543672800   \n",
       "\n",
       "        visibility  temperatureHigh  temperatureHighTime  temperatureLow  \\\n",
       "597071       9.846            44.65           1543690800           34.88   \n",
       "\n",
       "        temperatureLowTime  apparentTemperatureHigh  \\\n",
       "597071          1543712400                    43.98   \n",
       "\n",
       "        apparentTemperatureHighTime  apparentTemperatureLow  \\\n",
       "597071                   1543690800                   35.53   \n",
       "\n",
       "        apparentTemperatureLowTime           icon  dewPoint  pressure  \\\n",
       "597071                  1543712400   clear-night      30.46   1023.52   \n",
       "\n",
       "        windBearing  cloudCover  uvIndex  ozone  sunriseTime  sunsetTime  \\\n",
       "597071          146        0.12        0  274.6   1543665335  1543698860   \n",
       "\n",
       "        moonPhase  precipIntensityMax  uvIndexTime  temperatureMin  \\\n",
       "597071       0.82                 0.0   1543683600           31.57   \n",
       "\n",
       "        temperatureMinTime  temperatureMax  temperatureMaxTime  \\\n",
       "597071          1543665600           44.65          1543690800   \n",
       "\n",
       "        apparentTemperatureMin  apparentTemperatureMinTime  \\\n",
       "597071                    28.1                  1543658400   \n",
       "\n",
       "        apparentTemperatureMax  apparentTemperatureMaxTime  \n",
       "597071                   43.98                  1543690800  "
      ]
     },
     "execution_count": 14,
     "metadata": {},
     "output_type": "execute_result"
    }
   ],
   "source": [
    "print('Maximum price in our data :',df.price.max())\n",
    "df[df['price']==df.price.max()]"
   ]
  },
  {
   "cell_type": "code",
   "execution_count": 15,
   "id": "2fb2a1d7",
   "metadata": {
    "execution": {
     "iopub.execute_input": "2023-06-03T05:22:32.915637Z",
     "iopub.status.busy": "2023-06-03T05:22:32.915236Z",
     "iopub.status.idle": "2023-06-03T05:22:32.929047Z",
     "shell.execute_reply": "2023-06-03T05:22:32.928033Z"
    },
    "papermill": {
     "duration": 0.03919,
     "end_time": "2023-06-03T05:22:32.931442",
     "exception": false,
     "start_time": "2023-06-03T05:22:32.892252",
     "status": "completed"
    },
    "tags": []
   },
   "outputs": [
    {
     "data": {
      "text/html": [
       "<div>\n",
       "<style scoped>\n",
       "    .dataframe tbody tr th:only-of-type {\n",
       "        vertical-align: middle;\n",
       "    }\n",
       "\n",
       "    .dataframe tbody tr th {\n",
       "        vertical-align: top;\n",
       "    }\n",
       "\n",
       "    .dataframe thead th {\n",
       "        text-align: right;\n",
       "    }\n",
       "</style>\n",
       "<table border=\"1\" class=\"dataframe\">\n",
       "  <thead>\n",
       "    <tr style=\"text-align: right;\">\n",
       "      <th></th>\n",
       "      <th>latitude</th>\n",
       "      <th>longitude</th>\n",
       "    </tr>\n",
       "  </thead>\n",
       "  <tbody>\n",
       "    <tr>\n",
       "      <th>597071</th>\n",
       "      <td>42.3503</td>\n",
       "      <td>-71.081</td>\n",
       "    </tr>\n",
       "  </tbody>\n",
       "</table>\n",
       "</div>"
      ],
      "text/plain": [
       "        latitude  longitude\n",
       "597071   42.3503    -71.081"
      ]
     },
     "execution_count": 15,
     "metadata": {},
     "output_type": "execute_result"
    }
   ],
   "source": [
    "df[df['price']==df.price.max()][['latitude','longitude']]"
   ]
  },
  {
   "cell_type": "code",
   "execution_count": 16,
   "id": "1e05b2fe",
   "metadata": {
    "execution": {
     "iopub.execute_input": "2023-06-03T05:22:32.977814Z",
     "iopub.status.busy": "2023-06-03T05:22:32.977445Z",
     "iopub.status.idle": "2023-06-03T05:22:33.160796Z",
     "shell.execute_reply": "2023-06-03T05:22:33.159671Z"
    },
    "papermill": {
     "duration": 0.209673,
     "end_time": "2023-06-03T05:22:33.163203",
     "exception": false,
     "start_time": "2023-06-03T05:22:32.953530",
     "status": "completed"
    },
    "tags": []
   },
   "outputs": [
    {
     "data": {
      "text/html": [
       "<div>\n",
       "<style scoped>\n",
       "    .dataframe tbody tr th:only-of-type {\n",
       "        vertical-align: middle;\n",
       "    }\n",
       "\n",
       "    .dataframe tbody tr th {\n",
       "        vertical-align: top;\n",
       "    }\n",
       "\n",
       "    .dataframe thead th {\n",
       "        text-align: right;\n",
       "    }\n",
       "</style>\n",
       "<table border=\"1\" class=\"dataframe\">\n",
       "  <thead>\n",
       "    <tr style=\"text-align: right;\">\n",
       "      <th></th>\n",
       "      <th>source</th>\n",
       "      <th>destination</th>\n",
       "      <th>mean</th>\n",
       "    </tr>\n",
       "  </thead>\n",
       "  <tbody>\n",
       "    <tr>\n",
       "      <th>25</th>\n",
       "      <td>Financial District</td>\n",
       "      <td>Fenway</td>\n",
       "      <td>23.40485</td>\n",
       "    </tr>\n",
       "  </tbody>\n",
       "</table>\n",
       "</div>"
      ],
      "text/plain": [
       "                source destination      mean\n",
       "25  Financial District      Fenway  23.40485"
      ]
     },
     "execution_count": 16,
     "metadata": {},
     "output_type": "execute_result"
    }
   ],
   "source": [
    "df_group = df.groupby(by=[\"source\",\"destination\"]).price.agg([\"mean\"]).reset_index()\n",
    "df_group[(df_group['source']=='Financial District')& (df_group['destination']=='Fenway')]"
   ]
  },
  {
   "cell_type": "markdown",
   "id": "805ba12a",
   "metadata": {
    "papermill": {
     "duration": 0.021586,
     "end_time": "2023-06-03T05:22:33.206843",
     "exception": false,
     "start_time": "2023-06-03T05:22:33.185257",
     "status": "completed"
    },
    "tags": []
   },
   "source": [
    "#### The mean of the price data of that route is 23.4 dollars, which is far from our maximum price data (97.5 dollars). Then it is possible an outlier. We can drop it."
   ]
  },
  {
   "cell_type": "code",
   "execution_count": 17,
   "id": "f963affe",
   "metadata": {
    "execution": {
     "iopub.execute_input": "2023-06-03T05:22:33.252189Z",
     "iopub.status.busy": "2023-06-03T05:22:33.251798Z",
     "iopub.status.idle": "2023-06-03T05:22:33.501461Z",
     "shell.execute_reply": "2023-06-03T05:22:33.500510Z"
    },
    "papermill": {
     "duration": 0.275666,
     "end_time": "2023-06-03T05:22:33.504305",
     "exception": false,
     "start_time": "2023-06-03T05:22:33.228639",
     "status": "completed"
    },
    "tags": []
   },
   "outputs": [],
   "source": [
    "df = df.loc[df['price']!=df.price.max()]"
   ]
  },
  {
   "cell_type": "code",
   "execution_count": 18,
   "id": "9ce3a65c",
   "metadata": {
    "execution": {
     "iopub.execute_input": "2023-06-03T05:22:33.550303Z",
     "iopub.status.busy": "2023-06-03T05:22:33.549590Z",
     "iopub.status.idle": "2023-06-03T05:22:33.605222Z",
     "shell.execute_reply": "2023-06-03T05:22:33.604160Z"
    },
    "papermill": {
     "duration": 0.081149,
     "end_time": "2023-06-03T05:22:33.607587",
     "exception": false,
     "start_time": "2023-06-03T05:22:33.526438",
     "status": "completed"
    },
    "tags": []
   },
   "outputs": [
    {
     "data": {
      "text/html": [
       "<div>\n",
       "<style scoped>\n",
       "    .dataframe tbody tr th:only-of-type {\n",
       "        vertical-align: middle;\n",
       "    }\n",
       "\n",
       "    .dataframe tbody tr th {\n",
       "        vertical-align: top;\n",
       "    }\n",
       "\n",
       "    .dataframe thead th {\n",
       "        text-align: right;\n",
       "    }\n",
       "</style>\n",
       "<table border=\"1\" class=\"dataframe\">\n",
       "  <thead>\n",
       "    <tr style=\"text-align: right;\">\n",
       "      <th></th>\n",
       "      <th>id</th>\n",
       "      <th>timestamp</th>\n",
       "      <th>hour</th>\n",
       "      <th>day</th>\n",
       "      <th>month</th>\n",
       "      <th>datetime</th>\n",
       "      <th>timezone</th>\n",
       "      <th>source</th>\n",
       "      <th>destination</th>\n",
       "      <th>cab_type</th>\n",
       "      <th>product_id</th>\n",
       "      <th>name</th>\n",
       "      <th>price</th>\n",
       "      <th>distance</th>\n",
       "      <th>surge_multiplier</th>\n",
       "      <th>latitude</th>\n",
       "      <th>longitude</th>\n",
       "      <th>temperature</th>\n",
       "      <th>apparentTemperature</th>\n",
       "      <th>short_summary</th>\n",
       "      <th>long_summary</th>\n",
       "      <th>precipIntensity</th>\n",
       "      <th>precipProbability</th>\n",
       "      <th>humidity</th>\n",
       "      <th>windSpeed</th>\n",
       "      <th>windGust</th>\n",
       "      <th>windGustTime</th>\n",
       "      <th>visibility</th>\n",
       "      <th>temperatureHigh</th>\n",
       "      <th>temperatureHighTime</th>\n",
       "      <th>temperatureLow</th>\n",
       "      <th>temperatureLowTime</th>\n",
       "      <th>apparentTemperatureHigh</th>\n",
       "      <th>apparentTemperatureHighTime</th>\n",
       "      <th>apparentTemperatureLow</th>\n",
       "      <th>apparentTemperatureLowTime</th>\n",
       "      <th>icon</th>\n",
       "      <th>dewPoint</th>\n",
       "      <th>pressure</th>\n",
       "      <th>windBearing</th>\n",
       "      <th>cloudCover</th>\n",
       "      <th>uvIndex</th>\n",
       "      <th>ozone</th>\n",
       "      <th>sunriseTime</th>\n",
       "      <th>sunsetTime</th>\n",
       "      <th>moonPhase</th>\n",
       "      <th>precipIntensityMax</th>\n",
       "      <th>uvIndexTime</th>\n",
       "      <th>temperatureMin</th>\n",
       "      <th>temperatureMinTime</th>\n",
       "      <th>temperatureMax</th>\n",
       "      <th>temperatureMaxTime</th>\n",
       "      <th>apparentTemperatureMin</th>\n",
       "      <th>apparentTemperatureMinTime</th>\n",
       "      <th>apparentTemperatureMax</th>\n",
       "      <th>apparentTemperatureMaxTime</th>\n",
       "    </tr>\n",
       "  </thead>\n",
       "  <tbody>\n",
       "    <tr>\n",
       "      <th>0</th>\n",
       "      <td>424553bb-7174-41ea-aeb4-fe06d4f4b9d7</td>\n",
       "      <td>1.544953e+09</td>\n",
       "      <td>9</td>\n",
       "      <td>16</td>\n",
       "      <td>12</td>\n",
       "      <td>2018-12-16 09:30:07</td>\n",
       "      <td>America/New_York</td>\n",
       "      <td>Haymarket Square</td>\n",
       "      <td>North Station</td>\n",
       "      <td>Lyft</td>\n",
       "      <td>lyft_line</td>\n",
       "      <td>Shared</td>\n",
       "      <td>5.0</td>\n",
       "      <td>0.44</td>\n",
       "      <td>1.0</td>\n",
       "      <td>42.2148</td>\n",
       "      <td>-71.033</td>\n",
       "      <td>42.34</td>\n",
       "      <td>37.12</td>\n",
       "      <td>Mostly Cloudy</td>\n",
       "      <td>Rain throughout the day.</td>\n",
       "      <td>0.0000</td>\n",
       "      <td>0.0</td>\n",
       "      <td>0.68</td>\n",
       "      <td>8.66</td>\n",
       "      <td>9.17</td>\n",
       "      <td>1545015600</td>\n",
       "      <td>10.000</td>\n",
       "      <td>43.68</td>\n",
       "      <td>1544968800</td>\n",
       "      <td>34.19</td>\n",
       "      <td>1545048000</td>\n",
       "      <td>37.95</td>\n",
       "      <td>1544968800</td>\n",
       "      <td>27.39</td>\n",
       "      <td>1545044400</td>\n",
       "      <td>partly-cloudy-night</td>\n",
       "      <td>32.70</td>\n",
       "      <td>1021.98</td>\n",
       "      <td>57</td>\n",
       "      <td>0.72</td>\n",
       "      <td>0</td>\n",
       "      <td>303.8</td>\n",
       "      <td>1544962084</td>\n",
       "      <td>1544994864</td>\n",
       "      <td>0.30</td>\n",
       "      <td>0.1276</td>\n",
       "      <td>1544979600</td>\n",
       "      <td>39.89</td>\n",
       "      <td>1545012000</td>\n",
       "      <td>43.68</td>\n",
       "      <td>1544968800</td>\n",
       "      <td>33.73</td>\n",
       "      <td>1545012000</td>\n",
       "      <td>38.07</td>\n",
       "      <td>1544958000</td>\n",
       "    </tr>\n",
       "    <tr>\n",
       "      <th>1</th>\n",
       "      <td>4bd23055-6827-41c6-b23b-3c491f24e74d</td>\n",
       "      <td>1.543284e+09</td>\n",
       "      <td>2</td>\n",
       "      <td>27</td>\n",
       "      <td>11</td>\n",
       "      <td>2018-11-27 02:00:23</td>\n",
       "      <td>America/New_York</td>\n",
       "      <td>Haymarket Square</td>\n",
       "      <td>North Station</td>\n",
       "      <td>Lyft</td>\n",
       "      <td>lyft_premier</td>\n",
       "      <td>Lux</td>\n",
       "      <td>11.0</td>\n",
       "      <td>0.44</td>\n",
       "      <td>1.0</td>\n",
       "      <td>42.2148</td>\n",
       "      <td>-71.033</td>\n",
       "      <td>43.58</td>\n",
       "      <td>37.35</td>\n",
       "      <td>Rain</td>\n",
       "      <td>Rain until morning, starting again in the eve...</td>\n",
       "      <td>0.1299</td>\n",
       "      <td>1.0</td>\n",
       "      <td>0.94</td>\n",
       "      <td>11.98</td>\n",
       "      <td>11.98</td>\n",
       "      <td>1543291200</td>\n",
       "      <td>4.786</td>\n",
       "      <td>47.30</td>\n",
       "      <td>1543251600</td>\n",
       "      <td>42.10</td>\n",
       "      <td>1543298400</td>\n",
       "      <td>43.92</td>\n",
       "      <td>1543251600</td>\n",
       "      <td>36.20</td>\n",
       "      <td>1543291200</td>\n",
       "      <td>rain</td>\n",
       "      <td>41.83</td>\n",
       "      <td>1003.97</td>\n",
       "      <td>90</td>\n",
       "      <td>1.00</td>\n",
       "      <td>0</td>\n",
       "      <td>291.1</td>\n",
       "      <td>1543232969</td>\n",
       "      <td>1543266992</td>\n",
       "      <td>0.64</td>\n",
       "      <td>0.1300</td>\n",
       "      <td>1543251600</td>\n",
       "      <td>40.49</td>\n",
       "      <td>1543233600</td>\n",
       "      <td>47.30</td>\n",
       "      <td>1543251600</td>\n",
       "      <td>36.20</td>\n",
       "      <td>1543291200</td>\n",
       "      <td>43.92</td>\n",
       "      <td>1543251600</td>\n",
       "    </tr>\n",
       "    <tr>\n",
       "      <th>2</th>\n",
       "      <td>981a3613-77af-4620-a42a-0c0866077d1e</td>\n",
       "      <td>1.543367e+09</td>\n",
       "      <td>1</td>\n",
       "      <td>28</td>\n",
       "      <td>11</td>\n",
       "      <td>2018-11-28 01:00:22</td>\n",
       "      <td>America/New_York</td>\n",
       "      <td>Haymarket Square</td>\n",
       "      <td>North Station</td>\n",
       "      <td>Lyft</td>\n",
       "      <td>lyft</td>\n",
       "      <td>Lyft</td>\n",
       "      <td>7.0</td>\n",
       "      <td>0.44</td>\n",
       "      <td>1.0</td>\n",
       "      <td>42.2148</td>\n",
       "      <td>-71.033</td>\n",
       "      <td>38.33</td>\n",
       "      <td>32.93</td>\n",
       "      <td>Clear</td>\n",
       "      <td>Light rain in the morning.</td>\n",
       "      <td>0.0000</td>\n",
       "      <td>0.0</td>\n",
       "      <td>0.75</td>\n",
       "      <td>7.33</td>\n",
       "      <td>7.33</td>\n",
       "      <td>1543334400</td>\n",
       "      <td>10.000</td>\n",
       "      <td>47.55</td>\n",
       "      <td>1543320000</td>\n",
       "      <td>33.10</td>\n",
       "      <td>1543402800</td>\n",
       "      <td>44.12</td>\n",
       "      <td>1543320000</td>\n",
       "      <td>29.11</td>\n",
       "      <td>1543392000</td>\n",
       "      <td>clear-night</td>\n",
       "      <td>31.10</td>\n",
       "      <td>992.28</td>\n",
       "      <td>240</td>\n",
       "      <td>0.03</td>\n",
       "      <td>0</td>\n",
       "      <td>315.7</td>\n",
       "      <td>1543319437</td>\n",
       "      <td>1543353364</td>\n",
       "      <td>0.68</td>\n",
       "      <td>0.1064</td>\n",
       "      <td>1543338000</td>\n",
       "      <td>35.36</td>\n",
       "      <td>1543377600</td>\n",
       "      <td>47.55</td>\n",
       "      <td>1543320000</td>\n",
       "      <td>31.04</td>\n",
       "      <td>1543377600</td>\n",
       "      <td>44.12</td>\n",
       "      <td>1543320000</td>\n",
       "    </tr>\n",
       "    <tr>\n",
       "      <th>3</th>\n",
       "      <td>c2d88af2-d278-4bfd-a8d0-29ca77cc5512</td>\n",
       "      <td>1.543554e+09</td>\n",
       "      <td>4</td>\n",
       "      <td>30</td>\n",
       "      <td>11</td>\n",
       "      <td>2018-11-30 04:53:02</td>\n",
       "      <td>America/New_York</td>\n",
       "      <td>Haymarket Square</td>\n",
       "      <td>North Station</td>\n",
       "      <td>Lyft</td>\n",
       "      <td>lyft_luxsuv</td>\n",
       "      <td>Lux Black XL</td>\n",
       "      <td>26.0</td>\n",
       "      <td>0.44</td>\n",
       "      <td>1.0</td>\n",
       "      <td>42.2148</td>\n",
       "      <td>-71.033</td>\n",
       "      <td>34.38</td>\n",
       "      <td>29.63</td>\n",
       "      <td>Clear</td>\n",
       "      <td>Partly cloudy throughout the day.</td>\n",
       "      <td>0.0000</td>\n",
       "      <td>0.0</td>\n",
       "      <td>0.73</td>\n",
       "      <td>5.28</td>\n",
       "      <td>5.28</td>\n",
       "      <td>1543514400</td>\n",
       "      <td>10.000</td>\n",
       "      <td>45.03</td>\n",
       "      <td>1543510800</td>\n",
       "      <td>28.90</td>\n",
       "      <td>1543579200</td>\n",
       "      <td>38.53</td>\n",
       "      <td>1543510800</td>\n",
       "      <td>26.20</td>\n",
       "      <td>1543575600</td>\n",
       "      <td>clear-night</td>\n",
       "      <td>26.64</td>\n",
       "      <td>1013.73</td>\n",
       "      <td>310</td>\n",
       "      <td>0.00</td>\n",
       "      <td>0</td>\n",
       "      <td>291.1</td>\n",
       "      <td>1543492370</td>\n",
       "      <td>1543526114</td>\n",
       "      <td>0.75</td>\n",
       "      <td>0.0000</td>\n",
       "      <td>1543507200</td>\n",
       "      <td>34.67</td>\n",
       "      <td>1543550400</td>\n",
       "      <td>45.03</td>\n",
       "      <td>1543510800</td>\n",
       "      <td>30.30</td>\n",
       "      <td>1543550400</td>\n",
       "      <td>38.53</td>\n",
       "      <td>1543510800</td>\n",
       "    </tr>\n",
       "    <tr>\n",
       "      <th>4</th>\n",
       "      <td>e0126e1f-8ca9-4f2e-82b3-50505a09db9a</td>\n",
       "      <td>1.543463e+09</td>\n",
       "      <td>3</td>\n",
       "      <td>29</td>\n",
       "      <td>11</td>\n",
       "      <td>2018-11-29 03:49:20</td>\n",
       "      <td>America/New_York</td>\n",
       "      <td>Haymarket Square</td>\n",
       "      <td>North Station</td>\n",
       "      <td>Lyft</td>\n",
       "      <td>lyft_plus</td>\n",
       "      <td>Lyft XL</td>\n",
       "      <td>9.0</td>\n",
       "      <td>0.44</td>\n",
       "      <td>1.0</td>\n",
       "      <td>42.2148</td>\n",
       "      <td>-71.033</td>\n",
       "      <td>37.44</td>\n",
       "      <td>30.88</td>\n",
       "      <td>Partly Cloudy</td>\n",
       "      <td>Mostly cloudy throughout the day.</td>\n",
       "      <td>0.0000</td>\n",
       "      <td>0.0</td>\n",
       "      <td>0.70</td>\n",
       "      <td>9.14</td>\n",
       "      <td>9.14</td>\n",
       "      <td>1543446000</td>\n",
       "      <td>10.000</td>\n",
       "      <td>42.18</td>\n",
       "      <td>1543420800</td>\n",
       "      <td>36.71</td>\n",
       "      <td>1543478400</td>\n",
       "      <td>35.75</td>\n",
       "      <td>1543420800</td>\n",
       "      <td>30.29</td>\n",
       "      <td>1543460400</td>\n",
       "      <td>partly-cloudy-night</td>\n",
       "      <td>28.61</td>\n",
       "      <td>998.36</td>\n",
       "      <td>303</td>\n",
       "      <td>0.44</td>\n",
       "      <td>0</td>\n",
       "      <td>347.7</td>\n",
       "      <td>1543405904</td>\n",
       "      <td>1543439738</td>\n",
       "      <td>0.72</td>\n",
       "      <td>0.0001</td>\n",
       "      <td>1543420800</td>\n",
       "      <td>33.10</td>\n",
       "      <td>1543402800</td>\n",
       "      <td>42.18</td>\n",
       "      <td>1543420800</td>\n",
       "      <td>29.11</td>\n",
       "      <td>1543392000</td>\n",
       "      <td>35.75</td>\n",
       "      <td>1543420800</td>\n",
       "    </tr>\n",
       "  </tbody>\n",
       "</table>\n",
       "</div>"
      ],
      "text/plain": [
       "                                     id     timestamp  hour  day  month  \\\n",
       "0  424553bb-7174-41ea-aeb4-fe06d4f4b9d7  1.544953e+09     9   16     12   \n",
       "1  4bd23055-6827-41c6-b23b-3c491f24e74d  1.543284e+09     2   27     11   \n",
       "2  981a3613-77af-4620-a42a-0c0866077d1e  1.543367e+09     1   28     11   \n",
       "3  c2d88af2-d278-4bfd-a8d0-29ca77cc5512  1.543554e+09     4   30     11   \n",
       "4  e0126e1f-8ca9-4f2e-82b3-50505a09db9a  1.543463e+09     3   29     11   \n",
       "\n",
       "             datetime          timezone            source    destination  \\\n",
       "0 2018-12-16 09:30:07  America/New_York  Haymarket Square  North Station   \n",
       "1 2018-11-27 02:00:23  America/New_York  Haymarket Square  North Station   \n",
       "2 2018-11-28 01:00:22  America/New_York  Haymarket Square  North Station   \n",
       "3 2018-11-30 04:53:02  America/New_York  Haymarket Square  North Station   \n",
       "4 2018-11-29 03:49:20  America/New_York  Haymarket Square  North Station   \n",
       "\n",
       "  cab_type    product_id          name  price  distance  surge_multiplier  \\\n",
       "0     Lyft     lyft_line        Shared    5.0      0.44               1.0   \n",
       "1     Lyft  lyft_premier           Lux   11.0      0.44               1.0   \n",
       "2     Lyft          lyft          Lyft    7.0      0.44               1.0   \n",
       "3     Lyft   lyft_luxsuv  Lux Black XL   26.0      0.44               1.0   \n",
       "4     Lyft     lyft_plus       Lyft XL    9.0      0.44               1.0   \n",
       "\n",
       "   latitude  longitude  temperature  apparentTemperature    short_summary  \\\n",
       "0   42.2148    -71.033        42.34                37.12   Mostly Cloudy    \n",
       "1   42.2148    -71.033        43.58                37.35            Rain    \n",
       "2   42.2148    -71.033        38.33                32.93           Clear    \n",
       "3   42.2148    -71.033        34.38                29.63           Clear    \n",
       "4   42.2148    -71.033        37.44                30.88   Partly Cloudy    \n",
       "\n",
       "                                        long_summary  precipIntensity  \\\n",
       "0                          Rain throughout the day.            0.0000   \n",
       "1   Rain until morning, starting again in the eve...           0.1299   \n",
       "2                        Light rain in the morning.            0.0000   \n",
       "3                 Partly cloudy throughout the day.            0.0000   \n",
       "4                 Mostly cloudy throughout the day.            0.0000   \n",
       "\n",
       "   precipProbability  humidity  windSpeed  windGust  windGustTime  visibility  \\\n",
       "0                0.0      0.68       8.66      9.17    1545015600      10.000   \n",
       "1                1.0      0.94      11.98     11.98    1543291200       4.786   \n",
       "2                0.0      0.75       7.33      7.33    1543334400      10.000   \n",
       "3                0.0      0.73       5.28      5.28    1543514400      10.000   \n",
       "4                0.0      0.70       9.14      9.14    1543446000      10.000   \n",
       "\n",
       "   temperatureHigh  temperatureHighTime  temperatureLow  temperatureLowTime  \\\n",
       "0            43.68           1544968800           34.19          1545048000   \n",
       "1            47.30           1543251600           42.10          1543298400   \n",
       "2            47.55           1543320000           33.10          1543402800   \n",
       "3            45.03           1543510800           28.90          1543579200   \n",
       "4            42.18           1543420800           36.71          1543478400   \n",
       "\n",
       "   apparentTemperatureHigh  apparentTemperatureHighTime  \\\n",
       "0                    37.95                   1544968800   \n",
       "1                    43.92                   1543251600   \n",
       "2                    44.12                   1543320000   \n",
       "3                    38.53                   1543510800   \n",
       "4                    35.75                   1543420800   \n",
       "\n",
       "   apparentTemperatureLow  apparentTemperatureLowTime                   icon  \\\n",
       "0                   27.39                  1545044400   partly-cloudy-night    \n",
       "1                   36.20                  1543291200                  rain    \n",
       "2                   29.11                  1543392000           clear-night    \n",
       "3                   26.20                  1543575600           clear-night    \n",
       "4                   30.29                  1543460400   partly-cloudy-night    \n",
       "\n",
       "   dewPoint  pressure  windBearing  cloudCover  uvIndex  ozone  sunriseTime  \\\n",
       "0     32.70   1021.98           57        0.72        0  303.8   1544962084   \n",
       "1     41.83   1003.97           90        1.00        0  291.1   1543232969   \n",
       "2     31.10    992.28          240        0.03        0  315.7   1543319437   \n",
       "3     26.64   1013.73          310        0.00        0  291.1   1543492370   \n",
       "4     28.61    998.36          303        0.44        0  347.7   1543405904   \n",
       "\n",
       "   sunsetTime  moonPhase  precipIntensityMax  uvIndexTime  temperatureMin  \\\n",
       "0  1544994864       0.30              0.1276   1544979600           39.89   \n",
       "1  1543266992       0.64              0.1300   1543251600           40.49   \n",
       "2  1543353364       0.68              0.1064   1543338000           35.36   \n",
       "3  1543526114       0.75              0.0000   1543507200           34.67   \n",
       "4  1543439738       0.72              0.0001   1543420800           33.10   \n",
       "\n",
       "   temperatureMinTime  temperatureMax  temperatureMaxTime  \\\n",
       "0          1545012000           43.68          1544968800   \n",
       "1          1543233600           47.30          1543251600   \n",
       "2          1543377600           47.55          1543320000   \n",
       "3          1543550400           45.03          1543510800   \n",
       "4          1543402800           42.18          1543420800   \n",
       "\n",
       "   apparentTemperatureMin  apparentTemperatureMinTime  apparentTemperatureMax  \\\n",
       "0                   33.73                  1545012000                   38.07   \n",
       "1                   36.20                  1543291200                   43.92   \n",
       "2                   31.04                  1543377600                   44.12   \n",
       "3                   30.30                  1543550400                   38.53   \n",
       "4                   29.11                  1543392000                   35.75   \n",
       "\n",
       "   apparentTemperatureMaxTime  \n",
       "0                  1544958000  \n",
       "1                  1543251600  \n",
       "2                  1543320000  \n",
       "3                  1543510800  \n",
       "4                  1543420800  "
      ]
     },
     "execution_count": 18,
     "metadata": {},
     "output_type": "execute_result"
    }
   ],
   "source": [
    "df.head()"
   ]
  },
  {
   "cell_type": "markdown",
   "id": "9f7bb261",
   "metadata": {
    "papermill": {
     "duration": 0.022245,
     "end_time": "2023-06-03T05:22:33.652760",
     "exception": false,
     "start_time": "2023-06-03T05:22:33.630515",
     "status": "completed"
    },
    "tags": []
   },
   "source": [
    "## Removing Unnecessary Features"
   ]
  },
  {
   "cell_type": "code",
   "execution_count": 19,
   "id": "cbbf0802",
   "metadata": {
    "execution": {
     "iopub.execute_input": "2023-06-03T05:22:33.700214Z",
     "iopub.status.busy": "2023-06-03T05:22:33.699205Z",
     "iopub.status.idle": "2023-06-03T05:22:33.817501Z",
     "shell.execute_reply": "2023-06-03T05:22:33.816409Z"
    },
    "papermill": {
     "duration": 0.144986,
     "end_time": "2023-06-03T05:22:33.820333",
     "exception": false,
     "start_time": "2023-06-03T05:22:33.675347",
     "status": "completed"
    },
    "tags": []
   },
   "outputs": [],
   "source": [
    "# For further modelling i don't think we need date related features. But maybe we need them in the future analysis.\n",
    "# so i will make new dataframe\n",
    "\n",
    "new_df = df.drop(['id','timestamp','datetime','long_summary','apparentTemperatureHighTime','apparentTemperatureLowTime',\n",
    "                  'apparentTemperatureLowTime','windGustTime','sunriseTime','sunsetTime','uvIndexTime','temperatureMinTime',\n",
    "                 'temperatureMaxTime','apparentTemperatureMinTime','temperatureLowTime','apparentTemperatureMaxTime'],axis=1)"
   ]
  },
  {
   "cell_type": "code",
   "execution_count": 20,
   "id": "320b36a2",
   "metadata": {
    "execution": {
     "iopub.execute_input": "2023-06-03T05:22:33.867851Z",
     "iopub.status.busy": "2023-06-03T05:22:33.867438Z",
     "iopub.status.idle": "2023-06-03T05:22:33.873780Z",
     "shell.execute_reply": "2023-06-03T05:22:33.872739Z"
    },
    "papermill": {
     "duration": 0.032909,
     "end_time": "2023-06-03T05:22:33.875962",
     "exception": false,
     "start_time": "2023-06-03T05:22:33.843053",
     "status": "completed"
    },
    "tags": []
   },
   "outputs": [
    {
     "data": {
      "text/plain": [
       "(637975, 41)"
      ]
     },
     "execution_count": 20,
     "metadata": {},
     "output_type": "execute_result"
    }
   ],
   "source": [
    "new_df.shape"
   ]
  },
  {
   "cell_type": "markdown",
   "id": "55639430",
   "metadata": {
    "papermill": {
     "duration": 0.02267,
     "end_time": "2023-06-03T05:22:33.921373",
     "exception": false,
     "start_time": "2023-06-03T05:22:33.898703",
     "status": "completed"
    },
    "tags": []
   },
   "source": [
    "### Our goal is to make linear regression model. First we check correlation between our features and target feature (price)"
   ]
  },
  {
   "cell_type": "markdown",
   "id": "37981957",
   "metadata": {
    "papermill": {
     "duration": 0.022315,
     "end_time": "2023-06-03T05:22:33.966323",
     "exception": false,
     "start_time": "2023-06-03T05:22:33.944008",
     "status": "completed"
    },
    "tags": []
   },
   "source": [
    "#### First, i want to check the correlation of our temperature related features with our target feature (Price)"
   ]
  },
  {
   "cell_type": "code",
   "execution_count": 21,
   "id": "a9d58b7b",
   "metadata": {
    "execution": {
     "iopub.execute_input": "2023-06-03T05:22:34.013856Z",
     "iopub.status.busy": "2023-06-03T05:22:34.013117Z",
     "iopub.status.idle": "2023-06-03T05:22:34.018073Z",
     "shell.execute_reply": "2023-06-03T05:22:34.017346Z"
    },
    "papermill": {
     "duration": 0.031083,
     "end_time": "2023-06-03T05:22:34.020110",
     "exception": false,
     "start_time": "2023-06-03T05:22:33.989027",
     "status": "completed"
    },
    "tags": []
   },
   "outputs": [],
   "source": [
    "temp_cols= ['temperature','apparentTemperature','temperatureHigh','temperatureLow','apparentTemperatureHigh',\n",
    "            'apparentTemperatureLow','temperatureMin','temperatureHighTime','temperatureMax',\n",
    "            'apparentTemperatureMin','apparentTemperatureMax','price']"
   ]
  },
  {
   "cell_type": "code",
   "execution_count": 22,
   "id": "0270d7df",
   "metadata": {
    "execution": {
     "iopub.execute_input": "2023-06-03T05:22:34.067657Z",
     "iopub.status.busy": "2023-06-03T05:22:34.067213Z",
     "iopub.status.idle": "2023-06-03T05:22:34.110109Z",
     "shell.execute_reply": "2023-06-03T05:22:34.109094Z"
    },
    "papermill": {
     "duration": 0.069685,
     "end_time": "2023-06-03T05:22:34.112544",
     "exception": false,
     "start_time": "2023-06-03T05:22:34.042859",
     "status": "completed"
    },
    "tags": []
   },
   "outputs": [
    {
     "data": {
      "text/html": [
       "<div>\n",
       "<style scoped>\n",
       "    .dataframe tbody tr th:only-of-type {\n",
       "        vertical-align: middle;\n",
       "    }\n",
       "\n",
       "    .dataframe tbody tr th {\n",
       "        vertical-align: top;\n",
       "    }\n",
       "\n",
       "    .dataframe thead th {\n",
       "        text-align: right;\n",
       "    }\n",
       "</style>\n",
       "<table border=\"1\" class=\"dataframe\">\n",
       "  <thead>\n",
       "    <tr style=\"text-align: right;\">\n",
       "      <th></th>\n",
       "      <th>temperature</th>\n",
       "      <th>apparentTemperature</th>\n",
       "      <th>temperatureHigh</th>\n",
       "      <th>temperatureLow</th>\n",
       "      <th>apparentTemperatureHigh</th>\n",
       "      <th>apparentTemperatureLow</th>\n",
       "      <th>temperatureMin</th>\n",
       "      <th>temperatureHighTime</th>\n",
       "      <th>temperatureMax</th>\n",
       "      <th>apparentTemperatureMin</th>\n",
       "      <th>apparentTemperatureMax</th>\n",
       "      <th>price</th>\n",
       "    </tr>\n",
       "  </thead>\n",
       "  <tbody>\n",
       "    <tr>\n",
       "      <th>0</th>\n",
       "      <td>42.34</td>\n",
       "      <td>37.12</td>\n",
       "      <td>43.68</td>\n",
       "      <td>34.19</td>\n",
       "      <td>37.95</td>\n",
       "      <td>27.39</td>\n",
       "      <td>39.89</td>\n",
       "      <td>1544968800</td>\n",
       "      <td>43.68</td>\n",
       "      <td>33.73</td>\n",
       "      <td>38.07</td>\n",
       "      <td>5.0</td>\n",
       "    </tr>\n",
       "    <tr>\n",
       "      <th>1</th>\n",
       "      <td>43.58</td>\n",
       "      <td>37.35</td>\n",
       "      <td>47.30</td>\n",
       "      <td>42.10</td>\n",
       "      <td>43.92</td>\n",
       "      <td>36.20</td>\n",
       "      <td>40.49</td>\n",
       "      <td>1543251600</td>\n",
       "      <td>47.30</td>\n",
       "      <td>36.20</td>\n",
       "      <td>43.92</td>\n",
       "      <td>11.0</td>\n",
       "    </tr>\n",
       "    <tr>\n",
       "      <th>2</th>\n",
       "      <td>38.33</td>\n",
       "      <td>32.93</td>\n",
       "      <td>47.55</td>\n",
       "      <td>33.10</td>\n",
       "      <td>44.12</td>\n",
       "      <td>29.11</td>\n",
       "      <td>35.36</td>\n",
       "      <td>1543320000</td>\n",
       "      <td>47.55</td>\n",
       "      <td>31.04</td>\n",
       "      <td>44.12</td>\n",
       "      <td>7.0</td>\n",
       "    </tr>\n",
       "    <tr>\n",
       "      <th>3</th>\n",
       "      <td>34.38</td>\n",
       "      <td>29.63</td>\n",
       "      <td>45.03</td>\n",
       "      <td>28.90</td>\n",
       "      <td>38.53</td>\n",
       "      <td>26.20</td>\n",
       "      <td>34.67</td>\n",
       "      <td>1543510800</td>\n",
       "      <td>45.03</td>\n",
       "      <td>30.30</td>\n",
       "      <td>38.53</td>\n",
       "      <td>26.0</td>\n",
       "    </tr>\n",
       "    <tr>\n",
       "      <th>4</th>\n",
       "      <td>37.44</td>\n",
       "      <td>30.88</td>\n",
       "      <td>42.18</td>\n",
       "      <td>36.71</td>\n",
       "      <td>35.75</td>\n",
       "      <td>30.29</td>\n",
       "      <td>33.10</td>\n",
       "      <td>1543420800</td>\n",
       "      <td>42.18</td>\n",
       "      <td>29.11</td>\n",
       "      <td>35.75</td>\n",
       "      <td>9.0</td>\n",
       "    </tr>\n",
       "  </tbody>\n",
       "</table>\n",
       "</div>"
      ],
      "text/plain": [
       "   temperature  apparentTemperature  temperatureHigh  temperatureLow  \\\n",
       "0        42.34                37.12            43.68           34.19   \n",
       "1        43.58                37.35            47.30           42.10   \n",
       "2        38.33                32.93            47.55           33.10   \n",
       "3        34.38                29.63            45.03           28.90   \n",
       "4        37.44                30.88            42.18           36.71   \n",
       "\n",
       "   apparentTemperatureHigh  apparentTemperatureLow  temperatureMin  \\\n",
       "0                    37.95                   27.39           39.89   \n",
       "1                    43.92                   36.20           40.49   \n",
       "2                    44.12                   29.11           35.36   \n",
       "3                    38.53                   26.20           34.67   \n",
       "4                    35.75                   30.29           33.10   \n",
       "\n",
       "   temperatureHighTime  temperatureMax  apparentTemperatureMin  \\\n",
       "0           1544968800           43.68                   33.73   \n",
       "1           1543251600           47.30                   36.20   \n",
       "2           1543320000           47.55                   31.04   \n",
       "3           1543510800           45.03                   30.30   \n",
       "4           1543420800           42.18                   29.11   \n",
       "\n",
       "   apparentTemperatureMax  price  \n",
       "0                   38.07    5.0  \n",
       "1                   43.92   11.0  \n",
       "2                   44.12    7.0  \n",
       "3                   38.53   26.0  \n",
       "4                   35.75    9.0  "
      ]
     },
     "execution_count": 22,
     "metadata": {},
     "output_type": "execute_result"
    }
   ],
   "source": [
    "df_temp = new_df[temp_cols]\n",
    "df_temp.head()"
   ]
  },
  {
   "cell_type": "code",
   "execution_count": 23,
   "id": "96c5339f",
   "metadata": {
    "execution": {
     "iopub.execute_input": "2023-06-03T05:22:34.160526Z",
     "iopub.status.busy": "2023-06-03T05:22:34.160127Z",
     "iopub.status.idle": "2023-06-03T05:22:35.616734Z",
     "shell.execute_reply": "2023-06-03T05:22:35.615659Z"
    },
    "papermill": {
     "duration": 1.484941,
     "end_time": "2023-06-03T05:22:35.620486",
     "exception": false,
     "start_time": "2023-06-03T05:22:34.135545",
     "status": "completed"
    },
    "tags": []
   },
   "outputs": [
    {
     "data": {
      "text/plain": [
       "<Axes: >"
      ]
     },
     "execution_count": 23,
     "metadata": {},
     "output_type": "execute_result"
    },
    {
     "data": {
      "image/png": "[encoded data removed]",
      "text/plain": [
       "<Figure size 1500x2000 with 2 Axes>"
      ]
     },
     "metadata": {},
     "output_type": "display_data"
    }
   ],
   "source": [
    "plt.figure(figsize=(15,20))\n",
    "sns.heatmap(df_temp.corr(),annot=True)"
   ]
  },
  {
   "cell_type": "markdown",
   "id": "e49e0d07",
   "metadata": {
    "papermill": {
     "duration": 0.02584,
     "end_time": "2023-06-03T05:22:35.672675",
     "exception": false,
     "start_time": "2023-06-03T05:22:35.646835",
     "status": "completed"
    },
    "tags": []
   },
   "source": [
    "#### Removing all of them will not make any impact to our regression model"
   ]
  },
  {
   "cell_type": "code",
   "execution_count": 24,
   "id": "8a2c9eb1",
   "metadata": {
    "execution": {
     "iopub.execute_input": "2023-06-03T05:22:35.726756Z",
     "iopub.status.busy": "2023-06-03T05:22:35.726382Z",
     "iopub.status.idle": "2023-06-03T05:22:35.858572Z",
     "shell.execute_reply": "2023-06-03T05:22:35.857706Z"
    },
    "papermill": {
     "duration": 0.162257,
     "end_time": "2023-06-03T05:22:35.860741",
     "exception": false,
     "start_time": "2023-06-03T05:22:35.698484",
     "status": "completed"
    },
    "tags": []
   },
   "outputs": [
    {
     "data": {
      "text/plain": [
       "(637975, 30)"
      ]
     },
     "execution_count": 24,
     "metadata": {},
     "output_type": "execute_result"
    }
   ],
   "source": [
    "new_df = new_df.drop(['temperature','apparentTemperature','temperatureHigh','temperatureLow','apparentTemperatureHigh',\n",
    "                'apparentTemperatureLow','temperatureMin','temperatureHighTime','temperatureMax',\n",
    "                      'apparentTemperatureMin','apparentTemperatureMax'],axis=1)\n",
    "new_df.shape"
   ]
  },
  {
   "cell_type": "markdown",
   "id": "ab2da0e1",
   "metadata": {
    "papermill": {
     "duration": 0.025316,
     "end_time": "2023-06-03T05:22:35.911825",
     "exception": false,
     "start_time": "2023-06-03T05:22:35.886509",
     "status": "completed"
    },
    "tags": []
   },
   "source": [
    "#### Second, i want to check the correlation of our cilmate related features with our target feature (Price)"
   ]
  },
  {
   "cell_type": "code",
   "execution_count": 25,
   "id": "13d92c11",
   "metadata": {
    "execution": {
     "iopub.execute_input": "2023-06-03T05:22:35.965584Z",
     "iopub.status.busy": "2023-06-03T05:22:35.964923Z",
     "iopub.status.idle": "2023-06-03T05:22:36.014810Z",
     "shell.execute_reply": "2023-06-03T05:22:36.013733Z"
    },
    "papermill": {
     "duration": 0.079591,
     "end_time": "2023-06-03T05:22:36.017355",
     "exception": false,
     "start_time": "2023-06-03T05:22:35.937764",
     "status": "completed"
    },
    "tags": []
   },
   "outputs": [
    {
     "data": {
      "text/html": [
       "<div>\n",
       "<style scoped>\n",
       "    .dataframe tbody tr th:only-of-type {\n",
       "        vertical-align: middle;\n",
       "    }\n",
       "\n",
       "    .dataframe tbody tr th {\n",
       "        vertical-align: top;\n",
       "    }\n",
       "\n",
       "    .dataframe thead th {\n",
       "        text-align: right;\n",
       "    }\n",
       "</style>\n",
       "<table border=\"1\" class=\"dataframe\">\n",
       "  <thead>\n",
       "    <tr style=\"text-align: right;\">\n",
       "      <th></th>\n",
       "      <th>precipIntensity</th>\n",
       "      <th>precipProbability</th>\n",
       "      <th>humidity</th>\n",
       "      <th>windSpeed</th>\n",
       "      <th>windGust</th>\n",
       "      <th>visibility</th>\n",
       "      <th>dewPoint</th>\n",
       "      <th>pressure</th>\n",
       "      <th>windBearing</th>\n",
       "      <th>cloudCover</th>\n",
       "      <th>uvIndex</th>\n",
       "      <th>ozone</th>\n",
       "      <th>moonPhase</th>\n",
       "      <th>precipIntensityMax</th>\n",
       "      <th>price</th>\n",
       "    </tr>\n",
       "  </thead>\n",
       "  <tbody>\n",
       "    <tr>\n",
       "      <th>0</th>\n",
       "      <td>0.0000</td>\n",
       "      <td>0.0</td>\n",
       "      <td>0.68</td>\n",
       "      <td>8.66</td>\n",
       "      <td>9.17</td>\n",
       "      <td>10.000</td>\n",
       "      <td>32.70</td>\n",
       "      <td>1021.98</td>\n",
       "      <td>57</td>\n",
       "      <td>0.72</td>\n",
       "      <td>0</td>\n",
       "      <td>303.8</td>\n",
       "      <td>0.30</td>\n",
       "      <td>0.1276</td>\n",
       "      <td>5.0</td>\n",
       "    </tr>\n",
       "    <tr>\n",
       "      <th>1</th>\n",
       "      <td>0.1299</td>\n",
       "      <td>1.0</td>\n",
       "      <td>0.94</td>\n",
       "      <td>11.98</td>\n",
       "      <td>11.98</td>\n",
       "      <td>4.786</td>\n",
       "      <td>41.83</td>\n",
       "      <td>1003.97</td>\n",
       "      <td>90</td>\n",
       "      <td>1.00</td>\n",
       "      <td>0</td>\n",
       "      <td>291.1</td>\n",
       "      <td>0.64</td>\n",
       "      <td>0.1300</td>\n",
       "      <td>11.0</td>\n",
       "    </tr>\n",
       "    <tr>\n",
       "      <th>2</th>\n",
       "      <td>0.0000</td>\n",
       "      <td>0.0</td>\n",
       "      <td>0.75</td>\n",
       "      <td>7.33</td>\n",
       "      <td>7.33</td>\n",
       "      <td>10.000</td>\n",
       "      <td>31.10</td>\n",
       "      <td>992.28</td>\n",
       "      <td>240</td>\n",
       "      <td>0.03</td>\n",
       "      <td>0</td>\n",
       "      <td>315.7</td>\n",
       "      <td>0.68</td>\n",
       "      <td>0.1064</td>\n",
       "      <td>7.0</td>\n",
       "    </tr>\n",
       "    <tr>\n",
       "      <th>3</th>\n",
       "      <td>0.0000</td>\n",
       "      <td>0.0</td>\n",
       "      <td>0.73</td>\n",
       "      <td>5.28</td>\n",
       "      <td>5.28</td>\n",
       "      <td>10.000</td>\n",
       "      <td>26.64</td>\n",
       "      <td>1013.73</td>\n",
       "      <td>310</td>\n",
       "      <td>0.00</td>\n",
       "      <td>0</td>\n",
       "      <td>291.1</td>\n",
       "      <td>0.75</td>\n",
       "      <td>0.0000</td>\n",
       "      <td>26.0</td>\n",
       "    </tr>\n",
       "    <tr>\n",
       "      <th>4</th>\n",
       "      <td>0.0000</td>\n",
       "      <td>0.0</td>\n",
       "      <td>0.70</td>\n",
       "      <td>9.14</td>\n",
       "      <td>9.14</td>\n",
       "      <td>10.000</td>\n",
       "      <td>28.61</td>\n",
       "      <td>998.36</td>\n",
       "      <td>303</td>\n",
       "      <td>0.44</td>\n",
       "      <td>0</td>\n",
       "      <td>347.7</td>\n",
       "      <td>0.72</td>\n",
       "      <td>0.0001</td>\n",
       "      <td>9.0</td>\n",
       "    </tr>\n",
       "  </tbody>\n",
       "</table>\n",
       "</div>"
      ],
      "text/plain": [
       "   precipIntensity  precipProbability  humidity  windSpeed  windGust  \\\n",
       "0           0.0000                0.0      0.68       8.66      9.17   \n",
       "1           0.1299                1.0      0.94      11.98     11.98   \n",
       "2           0.0000                0.0      0.75       7.33      7.33   \n",
       "3           0.0000                0.0      0.73       5.28      5.28   \n",
       "4           0.0000                0.0      0.70       9.14      9.14   \n",
       "\n",
       "   visibility  dewPoint  pressure  windBearing  cloudCover  uvIndex  ozone  \\\n",
       "0      10.000     32.70   1021.98           57        0.72        0  303.8   \n",
       "1       4.786     41.83   1003.97           90        1.00        0  291.1   \n",
       "2      10.000     31.10    992.28          240        0.03        0  315.7   \n",
       "3      10.000     26.64   1013.73          310        0.00        0  291.1   \n",
       "4      10.000     28.61    998.36          303        0.44        0  347.7   \n",
       "\n",
       "   moonPhase  precipIntensityMax  price  \n",
       "0       0.30              0.1276    5.0  \n",
       "1       0.64              0.1300   11.0  \n",
       "2       0.68              0.1064    7.0  \n",
       "3       0.75              0.0000   26.0  \n",
       "4       0.72              0.0001    9.0  "
      ]
     },
     "execution_count": 25,
     "metadata": {},
     "output_type": "execute_result"
    }
   ],
   "source": [
    "climate_column = ['precipIntensity', 'precipProbability', 'humidity', 'windSpeed',\n",
    "       'windGust', 'visibility', 'dewPoint', 'pressure', 'windBearing',\n",
    "       'cloudCover', 'uvIndex', 'ozone', 'moonPhase',\n",
    "       'precipIntensityMax','price']\n",
    "df_clim = new_df[climate_column]\n",
    "df_clim.head()"
   ]
  },
  {
   "cell_type": "code",
   "execution_count": 26,
   "id": "01127720",
   "metadata": {
    "execution": {
     "iopub.execute_input": "2023-06-03T05:22:36.072236Z",
     "iopub.status.busy": "2023-06-03T05:22:36.071844Z",
     "iopub.status.idle": "2023-06-03T05:22:38.025483Z",
     "shell.execute_reply": "2023-06-03T05:22:38.024401Z"
    },
    "papermill": {
     "duration": 1.986177,
     "end_time": "2023-06-03T05:22:38.030156",
     "exception": false,
     "start_time": "2023-06-03T05:22:36.043979",
     "status": "completed"
    },
    "tags": []
   },
   "outputs": [
    {
     "data": {
      "text/plain": [
       "<Axes: >"
      ]
     },
     "execution_count": 26,
     "metadata": {},
     "output_type": "execute_result"
    },
    {
     "data": {
      "image/png": "[encoded data removed]",
      "text/plain": [
       "<Figure size 1500x2000 with 2 Axes>"
      ]
     },
     "metadata": {},
     "output_type": "display_data"
    }
   ],
   "source": [
    "plt.figure(figsize=(15,20))\n",
    "sns.heatmap(df_clim.corr(),annot=True)"
   ]
  },
  {
   "cell_type": "markdown",
   "id": "1130299a",
   "metadata": {
    "papermill": {
     "duration": 0.029516,
     "end_time": "2023-06-03T05:22:38.089822",
     "exception": false,
     "start_time": "2023-06-03T05:22:38.060306",
     "status": "completed"
    },
    "tags": []
   },
   "source": [
    "#### Once again, removing all of them will not make any impact to our regression model"
   ]
  },
  {
   "cell_type": "code",
   "execution_count": 27,
   "id": "b1684d41",
   "metadata": {
    "execution": {
     "iopub.execute_input": "2023-06-03T05:22:38.150743Z",
     "iopub.status.busy": "2023-06-03T05:22:38.150366Z",
     "iopub.status.idle": "2023-06-03T05:22:38.251550Z",
     "shell.execute_reply": "2023-06-03T05:22:38.250447Z"
    },
    "papermill": {
     "duration": 0.134257,
     "end_time": "2023-06-03T05:22:38.253825",
     "exception": false,
     "start_time": "2023-06-03T05:22:38.119568",
     "status": "completed"
    },
    "tags": []
   },
   "outputs": [
    {
     "data": {
      "text/plain": [
       "(637975, 16)"
      ]
     },
     "execution_count": 27,
     "metadata": {},
     "output_type": "execute_result"
    }
   ],
   "source": [
    "new_df = new_df.drop(['precipIntensity', 'precipProbability', 'humidity', 'windSpeed',\n",
    "       'windGust', 'visibility', 'dewPoint', 'pressure', 'windBearing',\n",
    "       'cloudCover', 'uvIndex', 'ozone', 'moonPhase',\n",
    "       'precipIntensityMax'],axis=1)\n",
    "new_df.shape"
   ]
  },
  {
   "cell_type": "markdown",
   "id": "ab110dc2",
   "metadata": {
    "papermill": {
     "duration": 0.029469,
     "end_time": "2023-06-03T05:22:38.312869",
     "exception": false,
     "start_time": "2023-06-03T05:22:38.283400",
     "status": "completed"
    },
    "tags": []
   },
   "source": [
    "#### Third, i want to check our categorical value in our dataset features"
   ]
  },
  {
   "cell_type": "code",
   "execution_count": 28,
   "id": "52172134",
   "metadata": {
    "execution": {
     "iopub.execute_input": "2023-06-03T05:22:38.374087Z",
     "iopub.status.busy": "2023-06-03T05:22:38.373683Z",
     "iopub.status.idle": "2023-06-03T05:22:39.020308Z",
     "shell.execute_reply": "2023-06-03T05:22:39.018964Z"
    },
    "papermill": {
     "duration": 0.680928,
     "end_time": "2023-06-03T05:22:39.023555",
     "exception": false,
     "start_time": "2023-06-03T05:22:38.342627",
     "status": "completed"
    },
    "tags": []
   },
   "outputs": [
    {
     "name": "stdout",
     "output_type": "stream",
     "text": [
      "timezone : ['America/New_York']\n",
      "\n",
      "source : ['Haymarket Square' 'Back Bay' 'North End' 'North Station' 'Beacon Hill'\n",
      " 'Boston University' 'Fenway' 'South Station' 'Theatre District'\n",
      " 'West End' 'Financial District' 'Northeastern University']\n",
      "\n",
      "destination : ['North Station' 'Northeastern University' 'West End' 'Haymarket Square'\n",
      " 'South Station' 'Fenway' 'Theatre District' 'Beacon Hill' 'Back Bay'\n",
      " 'North End' 'Financial District' 'Boston University']\n",
      "\n",
      "cab_type : ['Lyft' 'Uber']\n",
      "\n",
      "product_id : ['lyft_line' 'lyft_premier' 'lyft' 'lyft_luxsuv' 'lyft_plus' 'lyft_lux'\n",
      " '6f72dfc5-27f1-42e8-84db-ccc7a75f6969'\n",
      " '6c84fd89-3f11-4782-9b50-97c468b19529'\n",
      " '55c66225-fbe7-4fd5-9072-eab1ece5e23e'\n",
      " '9a0e7b09-b92b-4c41-9779-2ad22b4d779d'\n",
      " '6d318bcc-22a3-4af6-bddd-b409bfce1546'\n",
      " '997acbb5-e102-41e1-b155-9df7de0a73f2']\n",
      "\n",
      "name : ['Shared' 'Lux' 'Lyft' 'Lux Black XL' 'Lyft XL' 'Lux Black' 'UberXL'\n",
      " 'Black' 'UberX' 'WAV' 'Black SUV' 'UberPool']\n",
      "\n",
      "short_summary : [' Mostly Cloudy ' ' Rain ' ' Clear ' ' Partly Cloudy ' ' Overcast '\n",
      " ' Light Rain ' ' Foggy ' ' Possible Drizzle ' ' Drizzle ']\n",
      "\n",
      "icon : [' partly-cloudy-night ' ' rain ' ' clear-night ' ' cloudy ' ' fog '\n",
      " ' clear-day ' ' partly-cloudy-day ']\n",
      "\n"
     ]
    }
   ],
   "source": [
    "category_col = new_df.select_dtypes(include=['object','category']).columns.tolist()\n",
    "for column in new_df[category_col]:\n",
    "    print(f'{column} : {new_df[column].unique()}')\n",
    "    print()"
   ]
  },
  {
   "cell_type": "markdown",
   "id": "551b4dee",
   "metadata": {
    "papermill": {
     "duration": 0.029562,
     "end_time": "2023-06-03T05:22:39.082962",
     "exception": false,
     "start_time": "2023-06-03T05:22:39.053400",
     "status": "completed"
    },
    "tags": []
   },
   "source": [
    "**Observation**\n",
    "\n",
    "We can see that 'timezone' feature has only 1 value and 'product_id' feature contains many unidentified values. So we can remove or drop them"
   ]
  },
  {
   "cell_type": "code",
   "execution_count": 29,
   "id": "286ec52b",
   "metadata": {
    "execution": {
     "iopub.execute_input": "2023-06-03T05:22:39.144925Z",
     "iopub.status.busy": "2023-06-03T05:22:39.143936Z",
     "iopub.status.idle": "2023-06-03T05:22:39.228166Z",
     "shell.execute_reply": "2023-06-03T05:22:39.227308Z"
    },
    "papermill": {
     "duration": 0.118204,
     "end_time": "2023-06-03T05:22:39.230680",
     "exception": false,
     "start_time": "2023-06-03T05:22:39.112476",
     "status": "completed"
    },
    "tags": []
   },
   "outputs": [],
   "source": [
    "new_df = new_df.drop(['timezone','product_id'],axis=1)"
   ]
  },
  {
   "cell_type": "code",
   "execution_count": 30,
   "id": "4db04175",
   "metadata": {
    "execution": {
     "iopub.execute_input": "2023-06-03T05:22:39.293304Z",
     "iopub.status.busy": "2023-06-03T05:22:39.292622Z",
     "iopub.status.idle": "2023-06-03T05:22:39.298345Z",
     "shell.execute_reply": "2023-06-03T05:22:39.297405Z"
    },
    "papermill": {
     "duration": 0.039416,
     "end_time": "2023-06-03T05:22:39.300464",
     "exception": false,
     "start_time": "2023-06-03T05:22:39.261048",
     "status": "completed"
    },
    "tags": []
   },
   "outputs": [
    {
     "data": {
      "text/plain": [
       "(637975, 14)"
      ]
     },
     "execution_count": 30,
     "metadata": {},
     "output_type": "execute_result"
    }
   ],
   "source": [
    "new_df.shape"
   ]
  },
  {
   "cell_type": "markdown",
   "id": "81975e1c",
   "metadata": {
    "papermill": {
     "duration": 0.029515,
     "end_time": "2023-06-03T05:22:39.359907",
     "exception": false,
     "start_time": "2023-06-03T05:22:39.330392",
     "status": "completed"
    },
    "tags": []
   },
   "source": [
    "#### Fourth, i want to check the correlation of our categorical features with our target feature (price"
   ]
  },
  {
   "cell_type": "code",
   "execution_count": 31,
   "id": "99d33a9d",
   "metadata": {
    "execution": {
     "iopub.execute_input": "2023-06-03T05:22:39.422242Z",
     "iopub.status.busy": "2023-06-03T05:22:39.421585Z",
     "iopub.status.idle": "2023-06-03T05:22:39.468850Z",
     "shell.execute_reply": "2023-06-03T05:22:39.468065Z"
    },
    "papermill": {
     "duration": 0.081239,
     "end_time": "2023-06-03T05:22:39.470945",
     "exception": false,
     "start_time": "2023-06-03T05:22:39.389706",
     "status": "completed"
    },
    "tags": []
   },
   "outputs": [
    {
     "data": {
      "text/html": [
       "<div>\n",
       "<style scoped>\n",
       "    .dataframe tbody tr th:only-of-type {\n",
       "        vertical-align: middle;\n",
       "    }\n",
       "\n",
       "    .dataframe tbody tr th {\n",
       "        vertical-align: top;\n",
       "    }\n",
       "\n",
       "    .dataframe thead th {\n",
       "        text-align: right;\n",
       "    }\n",
       "</style>\n",
       "<table border=\"1\" class=\"dataframe\">\n",
       "  <thead>\n",
       "    <tr style=\"text-align: right;\">\n",
       "      <th></th>\n",
       "      <th>source</th>\n",
       "      <th>destination</th>\n",
       "      <th>cab_type</th>\n",
       "      <th>name</th>\n",
       "      <th>short_summary</th>\n",
       "      <th>icon</th>\n",
       "      <th>price</th>\n",
       "    </tr>\n",
       "  </thead>\n",
       "  <tbody>\n",
       "    <tr>\n",
       "      <th>0</th>\n",
       "      <td>Haymarket Square</td>\n",
       "      <td>North Station</td>\n",
       "      <td>Lyft</td>\n",
       "      <td>Shared</td>\n",
       "      <td>Mostly Cloudy</td>\n",
       "      <td>partly-cloudy-night</td>\n",
       "      <td>5.0</td>\n",
       "    </tr>\n",
       "    <tr>\n",
       "      <th>1</th>\n",
       "      <td>Haymarket Square</td>\n",
       "      <td>North Station</td>\n",
       "      <td>Lyft</td>\n",
       "      <td>Lux</td>\n",
       "      <td>Rain</td>\n",
       "      <td>rain</td>\n",
       "      <td>11.0</td>\n",
       "    </tr>\n",
       "    <tr>\n",
       "      <th>2</th>\n",
       "      <td>Haymarket Square</td>\n",
       "      <td>North Station</td>\n",
       "      <td>Lyft</td>\n",
       "      <td>Lyft</td>\n",
       "      <td>Clear</td>\n",
       "      <td>clear-night</td>\n",
       "      <td>7.0</td>\n",
       "    </tr>\n",
       "    <tr>\n",
       "      <th>3</th>\n",
       "      <td>Haymarket Square</td>\n",
       "      <td>North Station</td>\n",
       "      <td>Lyft</td>\n",
       "      <td>Lux Black XL</td>\n",
       "      <td>Clear</td>\n",
       "      <td>clear-night</td>\n",
       "      <td>26.0</td>\n",
       "    </tr>\n",
       "    <tr>\n",
       "      <th>4</th>\n",
       "      <td>Haymarket Square</td>\n",
       "      <td>North Station</td>\n",
       "      <td>Lyft</td>\n",
       "      <td>Lyft XL</td>\n",
       "      <td>Partly Cloudy</td>\n",
       "      <td>partly-cloudy-night</td>\n",
       "      <td>9.0</td>\n",
       "    </tr>\n",
       "  </tbody>\n",
       "</table>\n",
       "</div>"
      ],
      "text/plain": [
       "             source    destination cab_type          name    short_summary  \\\n",
       "0  Haymarket Square  North Station     Lyft        Shared   Mostly Cloudy    \n",
       "1  Haymarket Square  North Station     Lyft           Lux            Rain    \n",
       "2  Haymarket Square  North Station     Lyft          Lyft           Clear    \n",
       "3  Haymarket Square  North Station     Lyft  Lux Black XL           Clear    \n",
       "4  Haymarket Square  North Station     Lyft       Lyft XL   Partly Cloudy    \n",
       "\n",
       "                    icon  price  \n",
       "0   partly-cloudy-night     5.0  \n",
       "1                  rain    11.0  \n",
       "2           clear-night     7.0  \n",
       "3           clear-night    26.0  \n",
       "4   partly-cloudy-night     9.0  "
      ]
     },
     "execution_count": 31,
     "metadata": {},
     "output_type": "execute_result"
    }
   ],
   "source": [
    "new_cat = ['source',\n",
    " 'destination',\n",
    " 'cab_type',\n",
    " 'name',\n",
    " 'short_summary',\n",
    " 'icon','price']\n",
    "\n",
    "df_cat = new_df[new_cat]\n",
    "df_cat.head()"
   ]
  },
  {
   "cell_type": "code",
   "execution_count": 32,
   "id": "9b0ef599",
   "metadata": {
    "execution": {
     "iopub.execute_input": "2023-06-03T05:22:39.533407Z",
     "iopub.status.busy": "2023-06-03T05:22:39.533007Z",
     "iopub.status.idle": "2023-06-03T05:22:41.213888Z",
     "shell.execute_reply": "2023-06-03T05:22:41.212786Z"
    },
    "papermill": {
     "duration": 1.715768,
     "end_time": "2023-06-03T05:22:41.216850",
     "exception": false,
     "start_time": "2023-06-03T05:22:39.501082",
     "status": "completed"
    },
    "tags": []
   },
   "outputs": [],
   "source": [
    "from sklearn import preprocessing\n",
    "le = preprocessing.LabelEncoder()\n",
    "\n",
    "df_cat_encode= df_cat.copy()\n",
    "for col in df_cat_encode.select_dtypes(include='O').columns:\n",
    "    df_cat_encode[col]=le.fit_transform(df_cat_encode[col])"
   ]
  },
  {
   "cell_type": "code",
   "execution_count": 33,
   "id": "2fca2f08",
   "metadata": {
    "execution": {
     "iopub.execute_input": "2023-06-03T05:22:41.279120Z",
     "iopub.status.busy": "2023-06-03T05:22:41.278737Z",
     "iopub.status.idle": "2023-06-03T05:22:41.295683Z",
     "shell.execute_reply": "2023-06-03T05:22:41.294601Z"
    },
    "papermill": {
     "duration": 0.051163,
     "end_time": "2023-06-03T05:22:41.298027",
     "exception": false,
     "start_time": "2023-06-03T05:22:41.246864",
     "status": "completed"
    },
    "tags": []
   },
   "outputs": [
    {
     "data": {
      "text/html": [
       "<div>\n",
       "<style scoped>\n",
       "    .dataframe tbody tr th:only-of-type {\n",
       "        vertical-align: middle;\n",
       "    }\n",
       "\n",
       "    .dataframe tbody tr th {\n",
       "        vertical-align: top;\n",
       "    }\n",
       "\n",
       "    .dataframe thead th {\n",
       "        text-align: right;\n",
       "    }\n",
       "</style>\n",
       "<table border=\"1\" class=\"dataframe\">\n",
       "  <thead>\n",
       "    <tr style=\"text-align: right;\">\n",
       "      <th></th>\n",
       "      <th>source</th>\n",
       "      <th>destination</th>\n",
       "      <th>cab_type</th>\n",
       "      <th>name</th>\n",
       "      <th>short_summary</th>\n",
       "      <th>icon</th>\n",
       "      <th>price</th>\n",
       "    </tr>\n",
       "  </thead>\n",
       "  <tbody>\n",
       "    <tr>\n",
       "      <th>0</th>\n",
       "      <td>5</td>\n",
       "      <td>7</td>\n",
       "      <td>0</td>\n",
       "      <td>7</td>\n",
       "      <td>4</td>\n",
       "      <td>5</td>\n",
       "      <td>5.0</td>\n",
       "    </tr>\n",
       "    <tr>\n",
       "      <th>1</th>\n",
       "      <td>5</td>\n",
       "      <td>7</td>\n",
       "      <td>0</td>\n",
       "      <td>2</td>\n",
       "      <td>8</td>\n",
       "      <td>6</td>\n",
       "      <td>11.0</td>\n",
       "    </tr>\n",
       "    <tr>\n",
       "      <th>2</th>\n",
       "      <td>5</td>\n",
       "      <td>7</td>\n",
       "      <td>0</td>\n",
       "      <td>5</td>\n",
       "      <td>0</td>\n",
       "      <td>1</td>\n",
       "      <td>7.0</td>\n",
       "    </tr>\n",
       "    <tr>\n",
       "      <th>3</th>\n",
       "      <td>5</td>\n",
       "      <td>7</td>\n",
       "      <td>0</td>\n",
       "      <td>4</td>\n",
       "      <td>0</td>\n",
       "      <td>1</td>\n",
       "      <td>26.0</td>\n",
       "    </tr>\n",
       "    <tr>\n",
       "      <th>4</th>\n",
       "      <td>5</td>\n",
       "      <td>7</td>\n",
       "      <td>0</td>\n",
       "      <td>6</td>\n",
       "      <td>6</td>\n",
       "      <td>5</td>\n",
       "      <td>9.0</td>\n",
       "    </tr>\n",
       "    <tr>\n",
       "      <th>...</th>\n",
       "      <td>...</td>\n",
       "      <td>...</td>\n",
       "      <td>...</td>\n",
       "      <td>...</td>\n",
       "      <td>...</td>\n",
       "      <td>...</td>\n",
       "      <td>...</td>\n",
       "    </tr>\n",
       "    <tr>\n",
       "      <th>693065</th>\n",
       "      <td>11</td>\n",
       "      <td>6</td>\n",
       "      <td>1</td>\n",
       "      <td>11</td>\n",
       "      <td>6</td>\n",
       "      <td>5</td>\n",
       "      <td>9.5</td>\n",
       "    </tr>\n",
       "    <tr>\n",
       "      <th>693066</th>\n",
       "      <td>11</td>\n",
       "      <td>6</td>\n",
       "      <td>1</td>\n",
       "      <td>10</td>\n",
       "      <td>6</td>\n",
       "      <td>5</td>\n",
       "      <td>13.0</td>\n",
       "    </tr>\n",
       "    <tr>\n",
       "      <th>693067</th>\n",
       "      <td>11</td>\n",
       "      <td>6</td>\n",
       "      <td>1</td>\n",
       "      <td>9</td>\n",
       "      <td>6</td>\n",
       "      <td>5</td>\n",
       "      <td>9.5</td>\n",
       "    </tr>\n",
       "    <tr>\n",
       "      <th>693069</th>\n",
       "      <td>11</td>\n",
       "      <td>6</td>\n",
       "      <td>1</td>\n",
       "      <td>1</td>\n",
       "      <td>6</td>\n",
       "      <td>5</td>\n",
       "      <td>27.0</td>\n",
       "    </tr>\n",
       "    <tr>\n",
       "      <th>693070</th>\n",
       "      <td>11</td>\n",
       "      <td>6</td>\n",
       "      <td>1</td>\n",
       "      <td>8</td>\n",
       "      <td>6</td>\n",
       "      <td>5</td>\n",
       "      <td>10.0</td>\n",
       "    </tr>\n",
       "  </tbody>\n",
       "</table>\n",
       "<p>637975 rows × 7 columns</p>\n",
       "</div>"
      ],
      "text/plain": [
       "        source  destination  cab_type  name  short_summary  icon  price\n",
       "0            5            7         0     7              4     5    5.0\n",
       "1            5            7         0     2              8     6   11.0\n",
       "2            5            7         0     5              0     1    7.0\n",
       "3            5            7         0     4              0     1   26.0\n",
       "4            5            7         0     6              6     5    9.0\n",
       "...        ...          ...       ...   ...            ...   ...    ...\n",
       "693065      11            6         1    11              6     5    9.5\n",
       "693066      11            6         1    10              6     5   13.0\n",
       "693067      11            6         1     9              6     5    9.5\n",
       "693069      11            6         1     1              6     5   27.0\n",
       "693070      11            6         1     8              6     5   10.0\n",
       "\n",
       "[637975 rows x 7 columns]"
      ]
     },
     "execution_count": 33,
     "metadata": {},
     "output_type": "execute_result"
    }
   ],
   "source": [
    "df_cat_encode"
   ]
  },
  {
   "cell_type": "code",
   "execution_count": 34,
   "id": "d0745bf3",
   "metadata": {
    "execution": {
     "iopub.execute_input": "2023-06-03T05:22:41.361396Z",
     "iopub.status.busy": "2023-06-03T05:22:41.360952Z",
     "iopub.status.idle": "2023-06-03T05:22:42.214829Z",
     "shell.execute_reply": "2023-06-03T05:22:42.213788Z"
    },
    "papermill": {
     "duration": 0.889131,
     "end_time": "2023-06-03T05:22:42.217729",
     "exception": false,
     "start_time": "2023-06-03T05:22:41.328598",
     "status": "completed"
    },
    "tags": []
   },
   "outputs": [
    {
     "data": {
      "text/plain": [
       "<Axes: >"
      ]
     },
     "execution_count": 34,
     "metadata": {},
     "output_type": "execute_result"
    },
    {
     "data": {
      "image/png": "[encoded data removed]",
      "text/plain": [
       "<Figure size 1500x2000 with 2 Axes>"
      ]
     },
     "metadata": {},
     "output_type": "display_data"
    }
   ],
   "source": [
    "plt.figure(figsize=(15,20))\n",
    "sns.heatmap(df_cat_encode.corr(),annot=True)"
   ]
  },
  {
   "cell_type": "markdown",
   "id": "4339a8ca",
   "metadata": {
    "papermill": {
     "duration": 0.032138,
     "end_time": "2023-06-03T05:22:42.282642",
     "exception": false,
     "start_time": "2023-06-03T05:22:42.250504",
     "status": "completed"
    },
    "tags": []
   },
   "source": [
    "**Observation**\n",
    "\n",
    "We can see only name feature that has a relatively strong correlation. Source,destination, and cab_type features have relatively weak correlation, but i will pick cab_type feature because it has stronger correlation than other two features. I will drop or remove the rest of the columns"
   ]
  },
  {
   "cell_type": "code",
   "execution_count": 35,
   "id": "547e5808",
   "metadata": {
    "execution": {
     "iopub.execute_input": "2023-06-03T05:22:42.349172Z",
     "iopub.status.busy": "2023-06-03T05:22:42.348445Z",
     "iopub.status.idle": "2023-06-03T05:22:42.404416Z",
     "shell.execute_reply": "2023-06-03T05:22:42.403632Z"
    },
    "papermill": {
     "duration": 0.091366,
     "end_time": "2023-06-03T05:22:42.406587",
     "exception": false,
     "start_time": "2023-06-03T05:22:42.315221",
     "status": "completed"
    },
    "tags": []
   },
   "outputs": [
    {
     "data": {
      "text/html": [
       "<div>\n",
       "<style scoped>\n",
       "    .dataframe tbody tr th:only-of-type {\n",
       "        vertical-align: middle;\n",
       "    }\n",
       "\n",
       "    .dataframe tbody tr th {\n",
       "        vertical-align: top;\n",
       "    }\n",
       "\n",
       "    .dataframe thead th {\n",
       "        text-align: right;\n",
       "    }\n",
       "</style>\n",
       "<table border=\"1\" class=\"dataframe\">\n",
       "  <thead>\n",
       "    <tr style=\"text-align: right;\">\n",
       "      <th></th>\n",
       "      <th>hour</th>\n",
       "      <th>day</th>\n",
       "      <th>month</th>\n",
       "      <th>cab_type</th>\n",
       "      <th>name</th>\n",
       "      <th>price</th>\n",
       "      <th>distance</th>\n",
       "      <th>surge_multiplier</th>\n",
       "      <th>latitude</th>\n",
       "      <th>longitude</th>\n",
       "    </tr>\n",
       "  </thead>\n",
       "  <tbody>\n",
       "    <tr>\n",
       "      <th>0</th>\n",
       "      <td>9</td>\n",
       "      <td>16</td>\n",
       "      <td>12</td>\n",
       "      <td>Lyft</td>\n",
       "      <td>Shared</td>\n",
       "      <td>5.0</td>\n",
       "      <td>0.44</td>\n",
       "      <td>1.0</td>\n",
       "      <td>42.2148</td>\n",
       "      <td>-71.033</td>\n",
       "    </tr>\n",
       "    <tr>\n",
       "      <th>1</th>\n",
       "      <td>2</td>\n",
       "      <td>27</td>\n",
       "      <td>11</td>\n",
       "      <td>Lyft</td>\n",
       "      <td>Lux</td>\n",
       "      <td>11.0</td>\n",
       "      <td>0.44</td>\n",
       "      <td>1.0</td>\n",
       "      <td>42.2148</td>\n",
       "      <td>-71.033</td>\n",
       "    </tr>\n",
       "    <tr>\n",
       "      <th>2</th>\n",
       "      <td>1</td>\n",
       "      <td>28</td>\n",
       "      <td>11</td>\n",
       "      <td>Lyft</td>\n",
       "      <td>Lyft</td>\n",
       "      <td>7.0</td>\n",
       "      <td>0.44</td>\n",
       "      <td>1.0</td>\n",
       "      <td>42.2148</td>\n",
       "      <td>-71.033</td>\n",
       "    </tr>\n",
       "    <tr>\n",
       "      <th>3</th>\n",
       "      <td>4</td>\n",
       "      <td>30</td>\n",
       "      <td>11</td>\n",
       "      <td>Lyft</td>\n",
       "      <td>Lux Black XL</td>\n",
       "      <td>26.0</td>\n",
       "      <td>0.44</td>\n",
       "      <td>1.0</td>\n",
       "      <td>42.2148</td>\n",
       "      <td>-71.033</td>\n",
       "    </tr>\n",
       "    <tr>\n",
       "      <th>4</th>\n",
       "      <td>3</td>\n",
       "      <td>29</td>\n",
       "      <td>11</td>\n",
       "      <td>Lyft</td>\n",
       "      <td>Lyft XL</td>\n",
       "      <td>9.0</td>\n",
       "      <td>0.44</td>\n",
       "      <td>1.0</td>\n",
       "      <td>42.2148</td>\n",
       "      <td>-71.033</td>\n",
       "    </tr>\n",
       "  </tbody>\n",
       "</table>\n",
       "</div>"
      ],
      "text/plain": [
       "   hour  day  month cab_type          name  price  distance  surge_multiplier  \\\n",
       "0     9   16     12     Lyft        Shared    5.0      0.44               1.0   \n",
       "1     2   27     11     Lyft           Lux   11.0      0.44               1.0   \n",
       "2     1   28     11     Lyft          Lyft    7.0      0.44               1.0   \n",
       "3     4   30     11     Lyft  Lux Black XL   26.0      0.44               1.0   \n",
       "4     3   29     11     Lyft       Lyft XL    9.0      0.44               1.0   \n",
       "\n",
       "   latitude  longitude  \n",
       "0   42.2148    -71.033  \n",
       "1   42.2148    -71.033  \n",
       "2   42.2148    -71.033  \n",
       "3   42.2148    -71.033  \n",
       "4   42.2148    -71.033  "
      ]
     },
     "execution_count": 35,
     "metadata": {},
     "output_type": "execute_result"
    }
   ],
   "source": [
    "new_df = new_df.drop(['source','destination','short_summary','icon'],axis=1)\n",
    "new_df.head()"
   ]
  },
  {
   "cell_type": "markdown",
   "id": "4f6df1d1",
   "metadata": {
    "papermill": {
     "duration": 0.032235,
     "end_time": "2023-06-03T05:22:42.470926",
     "exception": false,
     "start_time": "2023-06-03T05:22:42.438691",
     "status": "completed"
    },
    "tags": []
   },
   "source": [
    "#### Also i will remove hour, day, month, latitude, longitude, because we won't need them for now"
   ]
  },
  {
   "cell_type": "code",
   "execution_count": 36,
   "id": "f5b16141",
   "metadata": {
    "execution": {
     "iopub.execute_input": "2023-06-03T05:22:42.537208Z",
     "iopub.status.busy": "2023-06-03T05:22:42.536586Z",
     "iopub.status.idle": "2023-06-03T05:22:42.565848Z",
     "shell.execute_reply": "2023-06-03T05:22:42.564775Z"
    },
    "papermill": {
     "duration": 0.065082,
     "end_time": "2023-06-03T05:22:42.568080",
     "exception": false,
     "start_time": "2023-06-03T05:22:42.502998",
     "status": "completed"
    },
    "tags": []
   },
   "outputs": [
    {
     "data": {
      "text/html": [
       "<div>\n",
       "<style scoped>\n",
       "    .dataframe tbody tr th:only-of-type {\n",
       "        vertical-align: middle;\n",
       "    }\n",
       "\n",
       "    .dataframe tbody tr th {\n",
       "        vertical-align: top;\n",
       "    }\n",
       "\n",
       "    .dataframe thead th {\n",
       "        text-align: right;\n",
       "    }\n",
       "</style>\n",
       "<table border=\"1\" class=\"dataframe\">\n",
       "  <thead>\n",
       "    <tr style=\"text-align: right;\">\n",
       "      <th></th>\n",
       "      <th>cab_type</th>\n",
       "      <th>name</th>\n",
       "      <th>price</th>\n",
       "      <th>distance</th>\n",
       "      <th>surge_multiplier</th>\n",
       "    </tr>\n",
       "  </thead>\n",
       "  <tbody>\n",
       "    <tr>\n",
       "      <th>0</th>\n",
       "      <td>Lyft</td>\n",
       "      <td>Shared</td>\n",
       "      <td>5.0</td>\n",
       "      <td>0.44</td>\n",
       "      <td>1.0</td>\n",
       "    </tr>\n",
       "    <tr>\n",
       "      <th>1</th>\n",
       "      <td>Lyft</td>\n",
       "      <td>Lux</td>\n",
       "      <td>11.0</td>\n",
       "      <td>0.44</td>\n",
       "      <td>1.0</td>\n",
       "    </tr>\n",
       "    <tr>\n",
       "      <th>2</th>\n",
       "      <td>Lyft</td>\n",
       "      <td>Lyft</td>\n",
       "      <td>7.0</td>\n",
       "      <td>0.44</td>\n",
       "      <td>1.0</td>\n",
       "    </tr>\n",
       "    <tr>\n",
       "      <th>3</th>\n",
       "      <td>Lyft</td>\n",
       "      <td>Lux Black XL</td>\n",
       "      <td>26.0</td>\n",
       "      <td>0.44</td>\n",
       "      <td>1.0</td>\n",
       "    </tr>\n",
       "    <tr>\n",
       "      <th>4</th>\n",
       "      <td>Lyft</td>\n",
       "      <td>Lyft XL</td>\n",
       "      <td>9.0</td>\n",
       "      <td>0.44</td>\n",
       "      <td>1.0</td>\n",
       "    </tr>\n",
       "  </tbody>\n",
       "</table>\n",
       "</div>"
      ],
      "text/plain": [
       "  cab_type          name  price  distance  surge_multiplier\n",
       "0     Lyft        Shared    5.0      0.44               1.0\n",
       "1     Lyft           Lux   11.0      0.44               1.0\n",
       "2     Lyft          Lyft    7.0      0.44               1.0\n",
       "3     Lyft  Lux Black XL   26.0      0.44               1.0\n",
       "4     Lyft       Lyft XL    9.0      0.44               1.0"
      ]
     },
     "execution_count": 36,
     "metadata": {},
     "output_type": "execute_result"
    }
   ],
   "source": [
    "new_df = new_df.drop(['hour','day','month','latitude','longitude'],axis=1)\n",
    "new_df.head()"
   ]
  },
  {
   "cell_type": "code",
   "execution_count": 37,
   "id": "283dd9b5",
   "metadata": {
    "execution": {
     "iopub.execute_input": "2023-06-03T05:22:42.635201Z",
     "iopub.status.busy": "2023-06-03T05:22:42.634607Z",
     "iopub.status.idle": "2023-06-03T05:22:42.641381Z",
     "shell.execute_reply": "2023-06-03T05:22:42.640391Z"
    },
    "papermill": {
     "duration": 0.043005,
     "end_time": "2023-06-03T05:22:42.643575",
     "exception": false,
     "start_time": "2023-06-03T05:22:42.600570",
     "status": "completed"
    },
    "tags": []
   },
   "outputs": [
    {
     "data": {
      "text/plain": [
       "Index(['cab_type', 'name', 'price', 'distance', 'surge_multiplier'], dtype='object')"
      ]
     },
     "execution_count": 37,
     "metadata": {},
     "output_type": "execute_result"
    }
   ],
   "source": [
    "new_df.columns"
   ]
  },
  {
   "cell_type": "code",
   "execution_count": 38,
   "id": "c2d43ae5",
   "metadata": {
    "execution": {
     "iopub.execute_input": "2023-06-03T05:22:42.711019Z",
     "iopub.status.busy": "2023-06-03T05:22:42.710052Z",
     "iopub.status.idle": "2023-06-03T05:22:42.740492Z",
     "shell.execute_reply": "2023-06-03T05:22:42.739572Z"
    },
    "papermill": {
     "duration": 0.067029,
     "end_time": "2023-06-03T05:22:42.743187",
     "exception": false,
     "start_time": "2023-06-03T05:22:42.676158",
     "status": "completed"
    },
    "tags": []
   },
   "outputs": [],
   "source": [
    "##  Removing Outliers\n",
    "\n",
    "## We're using IQR method for checking top and bottom outliers\n",
    "\n",
    "Qp12 = new_df['price'].quantile(0.25)\n",
    "Qp32 = new_df['price'].quantile(0.75)\n",
    "IQRp = Qp32-Qp12"
   ]
  },
  {
   "cell_type": "code",
   "execution_count": 39,
   "id": "f6ad7384",
   "metadata": {
    "execution": {
     "iopub.execute_input": "2023-06-03T05:22:42.811437Z",
     "iopub.status.busy": "2023-06-03T05:22:42.811004Z",
     "iopub.status.idle": "2023-06-03T05:22:42.832251Z",
     "shell.execute_reply": "2023-06-03T05:22:42.830962Z"
    },
    "papermill": {
     "duration": 0.058425,
     "end_time": "2023-06-03T05:22:42.834769",
     "exception": false,
     "start_time": "2023-06-03T05:22:42.776344",
     "status": "completed"
    },
    "tags": []
   },
   "outputs": [
    {
     "data": {
      "text/html": [
       "<div>\n",
       "<style scoped>\n",
       "    .dataframe tbody tr th:only-of-type {\n",
       "        vertical-align: middle;\n",
       "    }\n",
       "\n",
       "    .dataframe tbody tr th {\n",
       "        vertical-align: top;\n",
       "    }\n",
       "\n",
       "    .dataframe thead th {\n",
       "        text-align: right;\n",
       "    }\n",
       "</style>\n",
       "<table border=\"1\" class=\"dataframe\">\n",
       "  <thead>\n",
       "    <tr style=\"text-align: right;\">\n",
       "      <th></th>\n",
       "      <th>cab_type</th>\n",
       "      <th>name</th>\n",
       "      <th>price</th>\n",
       "      <th>distance</th>\n",
       "      <th>surge_multiplier</th>\n",
       "    </tr>\n",
       "  </thead>\n",
       "  <tbody>\n",
       "    <tr>\n",
       "      <th>706</th>\n",
       "      <td>Lyft</td>\n",
       "      <td>Lux Black</td>\n",
       "      <td>52.5</td>\n",
       "      <td>3.25</td>\n",
       "      <td>2.00</td>\n",
       "    </tr>\n",
       "    <tr>\n",
       "      <th>707</th>\n",
       "      <td>Lyft</td>\n",
       "      <td>Lux Black XL</td>\n",
       "      <td>67.5</td>\n",
       "      <td>3.25</td>\n",
       "      <td>2.00</td>\n",
       "    </tr>\n",
       "    <tr>\n",
       "      <th>769</th>\n",
       "      <td>Lyft</td>\n",
       "      <td>Lux Black XL</td>\n",
       "      <td>45.5</td>\n",
       "      <td>4.76</td>\n",
       "      <td>1.00</td>\n",
       "    </tr>\n",
       "    <tr>\n",
       "      <th>1094</th>\n",
       "      <td>Lyft</td>\n",
       "      <td>Lux Black XL</td>\n",
       "      <td>45.5</td>\n",
       "      <td>4.31</td>\n",
       "      <td>1.00</td>\n",
       "    </tr>\n",
       "    <tr>\n",
       "      <th>1318</th>\n",
       "      <td>Lyft</td>\n",
       "      <td>Lux Black XL</td>\n",
       "      <td>45.5</td>\n",
       "      <td>5.33</td>\n",
       "      <td>1.00</td>\n",
       "    </tr>\n",
       "    <tr>\n",
       "      <th>...</th>\n",
       "      <td>...</td>\n",
       "      <td>...</td>\n",
       "      <td>...</td>\n",
       "      <td>...</td>\n",
       "      <td>...</td>\n",
       "    </tr>\n",
       "    <tr>\n",
       "      <th>692439</th>\n",
       "      <td>Uber</td>\n",
       "      <td>Black SUV</td>\n",
       "      <td>47.0</td>\n",
       "      <td>5.56</td>\n",
       "      <td>1.00</td>\n",
       "    </tr>\n",
       "    <tr>\n",
       "      <th>692698</th>\n",
       "      <td>Lyft</td>\n",
       "      <td>Lux Black XL</td>\n",
       "      <td>52.5</td>\n",
       "      <td>4.58</td>\n",
       "      <td>1.25</td>\n",
       "    </tr>\n",
       "    <tr>\n",
       "      <th>692891</th>\n",
       "      <td>Lyft</td>\n",
       "      <td>Lux Black XL</td>\n",
       "      <td>47.5</td>\n",
       "      <td>5.42</td>\n",
       "      <td>1.00</td>\n",
       "    </tr>\n",
       "    <tr>\n",
       "      <th>692962</th>\n",
       "      <td>Uber</td>\n",
       "      <td>Black SUV</td>\n",
       "      <td>51.0</td>\n",
       "      <td>7.36</td>\n",
       "      <td>1.00</td>\n",
       "    </tr>\n",
       "    <tr>\n",
       "      <th>693007</th>\n",
       "      <td>Uber</td>\n",
       "      <td>Black SUV</td>\n",
       "      <td>49.5</td>\n",
       "      <td>7.36</td>\n",
       "      <td>1.00</td>\n",
       "    </tr>\n",
       "  </tbody>\n",
       "</table>\n",
       "<p>5588 rows × 5 columns</p>\n",
       "</div>"
      ],
      "text/plain": [
       "       cab_type          name  price  distance  surge_multiplier\n",
       "706        Lyft     Lux Black   52.5      3.25              2.00\n",
       "707        Lyft  Lux Black XL   67.5      3.25              2.00\n",
       "769        Lyft  Lux Black XL   45.5      4.76              1.00\n",
       "1094       Lyft  Lux Black XL   45.5      4.31              1.00\n",
       "1318       Lyft  Lux Black XL   45.5      5.33              1.00\n",
       "...         ...           ...    ...       ...               ...\n",
       "692439     Uber     Black SUV   47.0      5.56              1.00\n",
       "692698     Lyft  Lux Black XL   52.5      4.58              1.25\n",
       "692891     Lyft  Lux Black XL   47.5      5.42              1.00\n",
       "692962     Uber     Black SUV   51.0      7.36              1.00\n",
       "693007     Uber     Black SUV   49.5      7.36              1.00\n",
       "\n",
       "[5588 rows x 5 columns]"
      ]
     },
     "execution_count": 39,
     "metadata": {},
     "output_type": "execute_result"
    }
   ],
   "source": [
    "new_df[new_df['price']>(Qp32+(1.5*IQRp))]"
   ]
  },
  {
   "cell_type": "code",
   "execution_count": 40,
   "id": "ac57a31b",
   "metadata": {
    "execution": {
     "iopub.execute_input": "2023-06-03T05:22:42.903489Z",
     "iopub.status.busy": "2023-06-03T05:22:42.903093Z",
     "iopub.status.idle": "2023-06-03T05:22:42.914670Z",
     "shell.execute_reply": "2023-06-03T05:22:42.913656Z"
    },
    "papermill": {
     "duration": 0.048132,
     "end_time": "2023-06-03T05:22:42.916822",
     "exception": false,
     "start_time": "2023-06-03T05:22:42.868690",
     "status": "completed"
    },
    "tags": []
   },
   "outputs": [
    {
     "data": {
      "text/html": [
       "<div>\n",
       "<style scoped>\n",
       "    .dataframe tbody tr th:only-of-type {\n",
       "        vertical-align: middle;\n",
       "    }\n",
       "\n",
       "    .dataframe tbody tr th {\n",
       "        vertical-align: top;\n",
       "    }\n",
       "\n",
       "    .dataframe thead th {\n",
       "        text-align: right;\n",
       "    }\n",
       "</style>\n",
       "<table border=\"1\" class=\"dataframe\">\n",
       "  <thead>\n",
       "    <tr style=\"text-align: right;\">\n",
       "      <th></th>\n",
       "      <th>cab_type</th>\n",
       "      <th>name</th>\n",
       "      <th>price</th>\n",
       "      <th>distance</th>\n",
       "      <th>surge_multiplier</th>\n",
       "    </tr>\n",
       "  </thead>\n",
       "  <tbody>\n",
       "  </tbody>\n",
       "</table>\n",
       "</div>"
      ],
      "text/plain": [
       "Empty DataFrame\n",
       "Columns: [cab_type, name, price, distance, surge_multiplier]\n",
       "Index: []"
      ]
     },
     "execution_count": 40,
     "metadata": {},
     "output_type": "execute_result"
    }
   ],
   "source": [
    "new_df[new_df['price']<(Qp12-(1.5*IQRp))]"
   ]
  },
  {
   "cell_type": "markdown",
   "id": "16221653",
   "metadata": {
    "execution": {
     "iopub.execute_input": "2023-06-03T05:02:48.414101Z",
     "iopub.status.busy": "2023-06-03T05:02:48.413690Z",
     "iopub.status.idle": "2023-06-03T05:02:48.422567Z",
     "shell.execute_reply": "2023-06-03T05:02:48.421019Z",
     "shell.execute_reply.started": "2023-06-03T05:02:48.414073Z"
    },
    "papermill": {
     "duration": 0.033411,
     "end_time": "2023-06-03T05:22:42.984069",
     "exception": false,
     "start_time": "2023-06-03T05:22:42.950658",
     "status": "completed"
    },
    "tags": []
   },
   "source": [
    "#### We can see that we have 5588 data outliers. We can remove or drop them."
   ]
  },
  {
   "cell_type": "code",
   "execution_count": 41,
   "id": "68c6e3ec",
   "metadata": {
    "execution": {
     "iopub.execute_input": "2023-06-03T05:22:43.052510Z",
     "iopub.status.busy": "2023-06-03T05:22:43.051829Z",
     "iopub.status.idle": "2023-06-03T05:22:43.082421Z",
     "shell.execute_reply": "2023-06-03T05:22:43.081580Z"
    },
    "papermill": {
     "duration": 0.067431,
     "end_time": "2023-06-03T05:22:43.084815",
     "exception": false,
     "start_time": "2023-06-03T05:22:43.017384",
     "status": "completed"
    },
    "tags": []
   },
   "outputs": [
    {
     "name": "stdout",
     "output_type": "stream",
     "text": [
      "Size before removing : (637975, 5)\n",
      "Size after removing : (632387, 5)\n"
     ]
    }
   ],
   "source": [
    "print('Size before removing :',new_df.shape)\n",
    "new_df= new_df[~((new_df['price']>(Qp32+(1.5*IQRp))))]\n",
    "print('Size after removing :',new_df.shape)"
   ]
  },
  {
   "cell_type": "markdown",
   "id": "102e1a52",
   "metadata": {
    "papermill": {
     "duration": 0.036367,
     "end_time": "2023-06-03T05:22:43.154890",
     "exception": false,
     "start_time": "2023-06-03T05:22:43.118523",
     "status": "completed"
    },
    "tags": []
   },
   "source": [
    "## Regression Model"
   ]
  },
  {
   "cell_type": "markdown",
   "id": "2bea35c0",
   "metadata": {
    "execution": {
     "iopub.execute_input": "2023-06-03T05:04:02.149807Z",
     "iopub.status.busy": "2023-06-03T05:04:02.149392Z",
     "iopub.status.idle": "2023-06-03T05:04:02.155080Z",
     "shell.execute_reply": "2023-06-03T05:04:02.153595Z",
     "shell.execute_reply.started": "2023-06-03T05:04:02.149776Z"
    },
    "papermill": {
     "duration": 0.032989,
     "end_time": "2023-06-03T05:22:43.221539",
     "exception": false,
     "start_time": "2023-06-03T05:22:43.188550",
     "status": "completed"
    },
    "tags": []
   },
   "source": [
    "### Encoding Data (One Hot Encoding)"
   ]
  },
  {
   "cell_type": "code",
   "execution_count": 42,
   "id": "791c0ccf",
   "metadata": {
    "execution": {
     "iopub.execute_input": "2023-06-03T05:22:43.290445Z",
     "iopub.status.busy": "2023-06-03T05:22:43.289698Z",
     "iopub.status.idle": "2023-06-03T05:22:43.296730Z",
     "shell.execute_reply": "2023-06-03T05:22:43.295726Z"
    },
    "papermill": {
     "duration": 0.044303,
     "end_time": "2023-06-03T05:22:43.299174",
     "exception": false,
     "start_time": "2023-06-03T05:22:43.254871",
     "status": "completed"
    },
    "tags": []
   },
   "outputs": [],
   "source": [
    "def one_hot_encoder(data,feature,keep_first=True):\n",
    "\n",
    "    one_hot_cols = pd.get_dummies(data[feature])\n",
    "    \n",
    "    for col in one_hot_cols.columns:\n",
    "        one_hot_cols.rename({col:f'{feature}_'+col},axis=1,inplace=True)\n",
    "    \n",
    "    new_data = pd.concat([data,one_hot_cols],axis=1)\n",
    "    new_data.drop(feature,axis=1,inplace=True)\n",
    "    \n",
    "    if keep_first == False:\n",
    "        new_data=new_data.iloc[:,1:]\n",
    "    \n",
    "    return new_data"
   ]
  },
  {
   "cell_type": "code",
   "execution_count": 43,
   "id": "d83d3fd6",
   "metadata": {
    "execution": {
     "iopub.execute_input": "2023-06-03T05:22:43.368761Z",
     "iopub.status.busy": "2023-06-03T05:22:43.368035Z",
     "iopub.status.idle": "2023-06-03T05:22:43.665931Z",
     "shell.execute_reply": "2023-06-03T05:22:43.664875Z"
    },
    "papermill": {
     "duration": 0.335756,
     "end_time": "2023-06-03T05:22:43.668367",
     "exception": false,
     "start_time": "2023-06-03T05:22:43.332611",
     "status": "completed"
    },
    "tags": []
   },
   "outputs": [
    {
     "data": {
      "text/html": [
       "<div>\n",
       "<style scoped>\n",
       "    .dataframe tbody tr th:only-of-type {\n",
       "        vertical-align: middle;\n",
       "    }\n",
       "\n",
       "    .dataframe tbody tr th {\n",
       "        vertical-align: top;\n",
       "    }\n",
       "\n",
       "    .dataframe thead th {\n",
       "        text-align: right;\n",
       "    }\n",
       "</style>\n",
       "<table border=\"1\" class=\"dataframe\">\n",
       "  <thead>\n",
       "    <tr style=\"text-align: right;\">\n",
       "      <th></th>\n",
       "      <th>price</th>\n",
       "      <th>distance</th>\n",
       "      <th>surge_multiplier</th>\n",
       "      <th>cab_type_Lyft</th>\n",
       "      <th>cab_type_Uber</th>\n",
       "      <th>name_Black</th>\n",
       "      <th>name_Black SUV</th>\n",
       "      <th>name_Lux</th>\n",
       "      <th>name_Lux Black</th>\n",
       "      <th>name_Lux Black XL</th>\n",
       "      <th>name_Lyft</th>\n",
       "      <th>name_Lyft XL</th>\n",
       "      <th>name_Shared</th>\n",
       "      <th>name_UberPool</th>\n",
       "      <th>name_UberX</th>\n",
       "      <th>name_UberXL</th>\n",
       "      <th>name_WAV</th>\n",
       "    </tr>\n",
       "  </thead>\n",
       "  <tbody>\n",
       "    <tr>\n",
       "      <th>0</th>\n",
       "      <td>5.0</td>\n",
       "      <td>0.44</td>\n",
       "      <td>1.0</td>\n",
       "      <td>1</td>\n",
       "      <td>0</td>\n",
       "      <td>0</td>\n",
       "      <td>0</td>\n",
       "      <td>0</td>\n",
       "      <td>0</td>\n",
       "      <td>0</td>\n",
       "      <td>0</td>\n",
       "      <td>0</td>\n",
       "      <td>1</td>\n",
       "      <td>0</td>\n",
       "      <td>0</td>\n",
       "      <td>0</td>\n",
       "      <td>0</td>\n",
       "    </tr>\n",
       "    <tr>\n",
       "      <th>1</th>\n",
       "      <td>11.0</td>\n",
       "      <td>0.44</td>\n",
       "      <td>1.0</td>\n",
       "      <td>1</td>\n",
       "      <td>0</td>\n",
       "      <td>0</td>\n",
       "      <td>0</td>\n",
       "      <td>1</td>\n",
       "      <td>0</td>\n",
       "      <td>0</td>\n",
       "      <td>0</td>\n",
       "      <td>0</td>\n",
       "      <td>0</td>\n",
       "      <td>0</td>\n",
       "      <td>0</td>\n",
       "      <td>0</td>\n",
       "      <td>0</td>\n",
       "    </tr>\n",
       "    <tr>\n",
       "      <th>2</th>\n",
       "      <td>7.0</td>\n",
       "      <td>0.44</td>\n",
       "      <td>1.0</td>\n",
       "      <td>1</td>\n",
       "      <td>0</td>\n",
       "      <td>0</td>\n",
       "      <td>0</td>\n",
       "      <td>0</td>\n",
       "      <td>0</td>\n",
       "      <td>0</td>\n",
       "      <td>1</td>\n",
       "      <td>0</td>\n",
       "      <td>0</td>\n",
       "      <td>0</td>\n",
       "      <td>0</td>\n",
       "      <td>0</td>\n",
       "      <td>0</td>\n",
       "    </tr>\n",
       "    <tr>\n",
       "      <th>3</th>\n",
       "      <td>26.0</td>\n",
       "      <td>0.44</td>\n",
       "      <td>1.0</td>\n",
       "      <td>1</td>\n",
       "      <td>0</td>\n",
       "      <td>0</td>\n",
       "      <td>0</td>\n",
       "      <td>0</td>\n",
       "      <td>0</td>\n",
       "      <td>1</td>\n",
       "      <td>0</td>\n",
       "      <td>0</td>\n",
       "      <td>0</td>\n",
       "      <td>0</td>\n",
       "      <td>0</td>\n",
       "      <td>0</td>\n",
       "      <td>0</td>\n",
       "    </tr>\n",
       "    <tr>\n",
       "      <th>4</th>\n",
       "      <td>9.0</td>\n",
       "      <td>0.44</td>\n",
       "      <td>1.0</td>\n",
       "      <td>1</td>\n",
       "      <td>0</td>\n",
       "      <td>0</td>\n",
       "      <td>0</td>\n",
       "      <td>0</td>\n",
       "      <td>0</td>\n",
       "      <td>0</td>\n",
       "      <td>0</td>\n",
       "      <td>1</td>\n",
       "      <td>0</td>\n",
       "      <td>0</td>\n",
       "      <td>0</td>\n",
       "      <td>0</td>\n",
       "      <td>0</td>\n",
       "    </tr>\n",
       "  </tbody>\n",
       "</table>\n",
       "</div>"
      ],
      "text/plain": [
       "   price  distance  surge_multiplier  cab_type_Lyft  cab_type_Uber  \\\n",
       "0    5.0      0.44               1.0              1              0   \n",
       "1   11.0      0.44               1.0              1              0   \n",
       "2    7.0      0.44               1.0              1              0   \n",
       "3   26.0      0.44               1.0              1              0   \n",
       "4    9.0      0.44               1.0              1              0   \n",
       "\n",
       "   name_Black  name_Black SUV  name_Lux  name_Lux Black  name_Lux Black XL  \\\n",
       "0           0               0         0               0                  0   \n",
       "1           0               0         1               0                  0   \n",
       "2           0               0         0               0                  0   \n",
       "3           0               0         0               0                  1   \n",
       "4           0               0         0               0                  0   \n",
       "\n",
       "   name_Lyft  name_Lyft XL  name_Shared  name_UberPool  name_UberX  \\\n",
       "0          0             0            1              0           0   \n",
       "1          0             0            0              0           0   \n",
       "2          1             0            0              0           0   \n",
       "3          0             0            0              0           0   \n",
       "4          0             1            0              0           0   \n",
       "\n",
       "   name_UberXL  name_WAV  \n",
       "0            0         0  \n",
       "1            0         0  \n",
       "2            0         0  \n",
       "3            0         0  \n",
       "4            0         0  "
      ]
     },
     "execution_count": 43,
     "metadata": {},
     "output_type": "execute_result"
    }
   ],
   "source": [
    "new_df_onehot=new_df.copy()\n",
    "for col in new_df_onehot.select_dtypes(include='O').columns:\n",
    "    new_df_onehot=one_hot_encoder(new_df_onehot,col)\n",
    "    \n",
    "new_df_onehot.head()"
   ]
  },
  {
   "cell_type": "code",
   "execution_count": 44,
   "id": "4a32cd0d",
   "metadata": {
    "execution": {
     "iopub.execute_input": "2023-06-03T05:22:43.738100Z",
     "iopub.status.busy": "2023-06-03T05:22:43.737724Z",
     "iopub.status.idle": "2023-06-03T05:22:44.040620Z",
     "shell.execute_reply": "2023-06-03T05:22:44.039519Z"
    },
    "papermill": {
     "duration": 0.341195,
     "end_time": "2023-06-03T05:22:44.043381",
     "exception": false,
     "start_time": "2023-06-03T05:22:43.702186",
     "status": "completed"
    },
    "tags": []
   },
   "outputs": [],
   "source": [
    "## DATASET SPLIT\n",
    "\n",
    "from sklearn.model_selection import train_test_split\n",
    "X = new_df_onehot.drop(columns=['price'],axis=1).values\n",
    "y = new_df_onehot['price'].values\n",
    "\n",
    "X_train, X_test, y_train, y_test = train_test_split(X, y, test_size=0.3, random_state=0)"
   ]
  },
  {
   "cell_type": "markdown",
   "id": "a66f7c68",
   "metadata": {
    "execution": {
     "iopub.execute_input": "2023-06-03T05:05:29.602867Z",
     "iopub.status.busy": "2023-06-03T05:05:29.602286Z",
     "iopub.status.idle": "2023-06-03T05:05:29.608479Z",
     "shell.execute_reply": "2023-06-03T05:05:29.607225Z",
     "shell.execute_reply.started": "2023-06-03T05:05:29.602829Z"
    },
    "papermill": {
     "duration": 0.034195,
     "end_time": "2023-06-03T05:22:44.111345",
     "exception": false,
     "start_time": "2023-06-03T05:22:44.077150",
     "status": "completed"
    },
    "tags": []
   },
   "source": [
    "## Base Modeling"
   ]
  },
  {
   "cell_type": "code",
   "execution_count": 45,
   "id": "a7e2648e",
   "metadata": {
    "execution": {
     "iopub.execute_input": "2023-06-03T05:22:44.180880Z",
     "iopub.status.busy": "2023-06-03T05:22:44.180495Z",
     "iopub.status.idle": "2023-06-03T05:22:44.279464Z",
     "shell.execute_reply": "2023-06-03T05:22:44.278239Z"
    },
    "papermill": {
     "duration": 0.137285,
     "end_time": "2023-06-03T05:22:44.282406",
     "exception": false,
     "start_time": "2023-06-03T05:22:44.145121",
     "status": "completed"
    },
    "tags": []
   },
   "outputs": [],
   "source": [
    "from sklearn.linear_model import LinearRegression\n",
    "reg = LinearRegression()"
   ]
  },
  {
   "cell_type": "code",
   "execution_count": 46,
   "id": "c2f0ee7c",
   "metadata": {
    "execution": {
     "iopub.execute_input": "2023-06-03T05:22:44.353314Z",
     "iopub.status.busy": "2023-06-03T05:22:44.352395Z",
     "iopub.status.idle": "2023-06-03T05:22:44.831717Z",
     "shell.execute_reply": "2023-06-03T05:22:44.830419Z"
    },
    "papermill": {
     "duration": 0.51948,
     "end_time": "2023-06-03T05:22:44.836116",
     "exception": false,
     "start_time": "2023-06-03T05:22:44.316636",
     "status": "completed"
    },
    "tags": []
   },
   "outputs": [],
   "source": [
    "# Fit to data training\n",
    "model = reg.fit(X_train,y_train)\n",
    "y_pred=model.predict(X_test)"
   ]
  },
  {
   "cell_type": "code",
   "execution_count": 47,
   "id": "15ba9f50",
   "metadata": {
    "execution": {
     "iopub.execute_input": "2023-06-03T05:22:44.965278Z",
     "iopub.status.busy": "2023-06-03T05:22:44.964315Z",
     "iopub.status.idle": "2023-06-03T05:22:44.974139Z",
     "shell.execute_reply": "2023-06-03T05:22:44.973108Z"
    },
    "papermill": {
     "duration": 0.071158,
     "end_time": "2023-06-03T05:22:44.976667",
     "exception": false,
     "start_time": "2023-06-03T05:22:44.905509",
     "status": "completed"
    },
    "tags": []
   },
   "outputs": [
    {
     "data": {
      "text/plain": [
       "0.9337789051792855"
      ]
     },
     "execution_count": 47,
     "metadata": {},
     "output_type": "execute_result"
    }
   ],
   "source": [
    "from sklearn.metrics import r2_score\n",
    "r2_score(y_test, y_pred)"
   ]
  },
  {
   "cell_type": "code",
   "execution_count": 48,
   "id": "739e5e5b",
   "metadata": {
    "execution": {
     "iopub.execute_input": "2023-06-03T05:22:45.048179Z",
     "iopub.status.busy": "2023-06-03T05:22:45.047747Z",
     "iopub.status.idle": "2023-06-03T05:22:45.055929Z",
     "shell.execute_reply": "2023-06-03T05:22:45.054758Z"
    },
    "papermill": {
     "duration": 0.046219,
     "end_time": "2023-06-03T05:22:45.058037",
     "exception": false,
     "start_time": "2023-06-03T05:22:45.011818",
     "status": "completed"
    },
    "tags": []
   },
   "outputs": [
    {
     "name": "stdout",
     "output_type": "stream",
     "text": [
      "5.1083831017032715\n",
      "2.2601732459489186\n"
     ]
    }
   ],
   "source": [
    "from sklearn.metrics import mean_squared_error\n",
    "mse = mean_squared_error(y_test,y_pred)\n",
    "rmse = np.sqrt(mse)\n",
    "print(mse)\n",
    "print(rmse)"
   ]
  },
  {
   "cell_type": "markdown",
   "id": "e54f147a",
   "metadata": {
    "papermill": {
     "duration": 0.033658,
     "end_time": "2023-06-03T05:22:45.125772",
     "exception": false,
     "start_time": "2023-06-03T05:22:45.092114",
     "status": "completed"
    },
    "tags": []
   },
   "source": [
    "**Observation**\n",
    "\n",
    "Then for the long journey we have done, we got our regression model with accuracy or score 93.37% and RMSE value 2.26. It's not the best score though, we still can improve it with other regression models which could give better results."
   ]
  },
  {
   "cell_type": "markdown",
   "id": "e3ebefb8",
   "metadata": {
    "execution": {
     "iopub.execute_input": "2023-06-03T05:08:51.469842Z",
     "iopub.status.busy": "2023-06-03T05:08:51.469395Z",
     "iopub.status.idle": "2023-06-03T05:08:51.475573Z",
     "shell.execute_reply": "2023-06-03T05:08:51.474320Z",
     "shell.execute_reply.started": "2023-06-03T05:08:51.469809Z"
    },
    "papermill": {
     "duration": 0.033728,
     "end_time": "2023-06-03T05:22:45.193585",
     "exception": false,
     "start_time": "2023-06-03T05:22:45.159857",
     "status": "completed"
    },
    "tags": []
   },
   "source": [
    "## Thank You"
   ]
  }
 ],
 "metadata": {
  "kernelspec": {
   "display_name": "Python 3",
   "language": "python",
   "name": "python3"
  },
  "language_info": {
   "codemirror_mode": {
    "name": "ipython",
    "version": 3
   },
   "file_extension": ".py",
   "mimetype": "text/x-python",
   "name": "python",
   "nbconvert_exporter": "python",
   "pygments_lexer": "ipython3",
   "version": "3.10.10"
  },
  "papermill": {
   "default_parameters": {},
   "duration": 49.365115,
   "end_time": "2023-06-03T05:22:46.450339",
   "environment_variables": {},
   "exception": null,
   "input_path": "__notebook__.ipynb",
   "output_path": "__notebook__.ipynb",
   "parameters": {},
   "start_time": "2023-06-03T05:21:57.085224",
   "version": "2.4.0"
  }
 },
 "nbformat": 4,
 "nbformat_minor": 5
}
